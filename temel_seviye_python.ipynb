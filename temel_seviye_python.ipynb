{
 "cells": [
  {
   "cell_type": "markdown",
   "id": "3efeee55-31d1-4293-9a8a-19060be4d793",
   "metadata": {},
   "source": [
    "## PYTHON TEMEL SEVİYE İŞLEMLER VE KOD ÖRNEKLERİ "
   ]
  },
  {
   "cell_type": "markdown",
   "id": "b4f28648-5a2c-4c6c-aaf0-6d8a30b544d1",
   "metadata": {},
   "source": [
    "## Variables(Değişkenler)"
   ]
  },
  {
   "cell_type": "code",
   "execution_count": 1,
   "id": "0f11c359-e18f-450c-a870-a524ec205f39",
   "metadata": {},
   "outputs": [],
   "source": [
    "x=5\n",
    "y=4"
   ]
  },
  {
   "cell_type": "code",
   "execution_count": 2,
   "id": "97739297-e7ff-48c2-84d0-1cc296fc5563",
   "metadata": {},
   "outputs": [
    {
     "data": {
      "text/plain": [
       "20"
      ]
     },
     "execution_count": 2,
     "metadata": {},
     "output_type": "execute_result"
    }
   ],
   "source": [
    "x*y"
   ]
  },
  {
   "cell_type": "code",
   "execution_count": 3,
   "id": "5043bd0d-2662-4943-a305-f297039fd3dc",
   "metadata": {},
   "outputs": [],
   "source": [
    "x=6"
   ]
  },
  {
   "cell_type": "code",
   "execution_count": 4,
   "id": "a0b5fbdf-2458-41d2-ba6c-0ac80c96f664",
   "metadata": {},
   "outputs": [
    {
     "data": {
      "text/plain": [
       "24"
      ]
     },
     "execution_count": 4,
     "metadata": {},
     "output_type": "execute_result"
    }
   ],
   "source": [
    "x*y"
   ]
  },
  {
   "cell_type": "markdown",
   "id": "dd7e186a-c775-4ef3-99ae-32808c0a7fdf",
   "metadata": {},
   "source": [
    "## Integer / Float /String"
   ]
  },
  {
   "cell_type": "code",
   "execution_count": 5,
   "id": "da34a3ea-46d4-4fc3-8655-92a6b1928b40",
   "metadata": {},
   "outputs": [],
   "source": [
    "benimDegiskenim=10\n",
    "benimDigerDegiskenim=20"
   ]
  },
  {
   "cell_type": "code",
   "execution_count": 6,
   "id": "22c0ad97-7dc9-4ac9-8252-233dd51cc53b",
   "metadata": {},
   "outputs": [
    {
     "data": {
      "text/plain": [
       "30"
      ]
     },
     "execution_count": 6,
     "metadata": {},
     "output_type": "execute_result"
    }
   ],
   "source": [
    "benimDegiskenim + benimDigerDegiskenim"
   ]
  },
  {
   "cell_type": "code",
   "execution_count": 7,
   "id": "71a16954-0423-416a-8bb5-4e29e8117e07",
   "metadata": {},
   "outputs": [
    {
     "data": {
      "text/plain": [
       "int"
      ]
     },
     "execution_count": 7,
     "metadata": {},
     "output_type": "execute_result"
    }
   ],
   "source": [
    "type(benimDegiskenim)"
   ]
  },
  {
   "cell_type": "code",
   "execution_count": 8,
   "id": "caa39792-613d-446f-b845-0b4ec34e79e4",
   "metadata": {},
   "outputs": [],
   "source": [
    "sonuc=benimDegiskenim/benimDigerDegiskenim"
   ]
  },
  {
   "cell_type": "code",
   "execution_count": 9,
   "id": "dfc9acb1-ada7-4a22-874a-a1214ae136e1",
   "metadata": {},
   "outputs": [
    {
     "data": {
      "text/plain": [
       "0.5"
      ]
     },
     "execution_count": 9,
     "metadata": {},
     "output_type": "execute_result"
    }
   ],
   "source": [
    "sonuc"
   ]
  },
  {
   "cell_type": "code",
   "execution_count": 10,
   "id": "290bdcf6-5fa5-4810-a9f4-e95b03bf7499",
   "metadata": {},
   "outputs": [
    {
     "data": {
      "text/plain": [
       "float"
      ]
     },
     "execution_count": 10,
     "metadata": {},
     "output_type": "execute_result"
    }
   ],
   "source": [
    "type(sonuc)"
   ]
  },
  {
   "cell_type": "code",
   "execution_count": 11,
   "id": "d2142a01-fad9-4b3e-ab78-872de2410654",
   "metadata": {},
   "outputs": [],
   "source": [
    "taban=2\n",
    "üs=3"
   ]
  },
  {
   "cell_type": "code",
   "execution_count": 12,
   "id": "6db8f1ae-c4d6-45b1-b330-29603c49323e",
   "metadata": {},
   "outputs": [
    {
     "data": {
      "text/plain": [
       "8"
      ]
     },
     "execution_count": 12,
     "metadata": {},
     "output_type": "execute_result"
    }
   ],
   "source": [
    "sonuc=taban ** üs\n",
    "sonuc"
   ]
  },
  {
   "cell_type": "code",
   "execution_count": 13,
   "id": "08eb312c-dae3-49a0-b34c-9dd9cd5bfedc",
   "metadata": {},
   "outputs": [
    {
     "data": {
      "text/plain": [
       "0"
      ]
     },
     "execution_count": 13,
     "metadata": {},
     "output_type": "execute_result"
    }
   ],
   "source": [
    "mod=10%2\n",
    "mod"
   ]
  },
  {
   "cell_type": "code",
   "execution_count": 14,
   "id": "a9235cad-4601-475b-ab6a-55857187fbfb",
   "metadata": {},
   "outputs": [
    {
     "data": {
      "text/plain": [
       "3.0"
      ]
     },
     "execution_count": 14,
     "metadata": {},
     "output_type": "execute_result"
    }
   ],
   "source": [
    "kullanicininYasi=10\n",
    "kullanicininYasi*3/10"
   ]
  },
  {
   "cell_type": "code",
   "execution_count": 15,
   "id": "47a9c4ac-98c4-4d99-b815-29681f78934a",
   "metadata": {},
   "outputs": [
    {
     "name": "stdin",
     "output_type": "stream",
     "text": [
      "Yaşınızı giriniz 21\n"
     ]
    }
   ],
   "source": [
    "kullanicininYasi = input(\"Yaşınızı giriniz\")"
   ]
  },
  {
   "cell_type": "code",
   "execution_count": 16,
   "id": "2d3ebe96-c93c-49b9-8606-e5b3dd4fa837",
   "metadata": {},
   "outputs": [
    {
     "data": {
      "text/plain": [
       "str"
      ]
     },
     "execution_count": 16,
     "metadata": {},
     "output_type": "execute_result"
    }
   ],
   "source": [
    "type(kullanicininYasi)"
   ]
  },
  {
   "cell_type": "code",
   "execution_count": 17,
   "id": "86867c54-7f1b-42aa-87f4-c329a826b32d",
   "metadata": {},
   "outputs": [
    {
     "data": {
      "text/plain": [
       "'2121212121'"
      ]
     },
     "execution_count": 17,
     "metadata": {},
     "output_type": "execute_result"
    }
   ],
   "source": [
    "kullanicininYasi*5"
   ]
  },
  {
   "cell_type": "code",
   "execution_count": 18,
   "id": "6685ce97-7eb7-4442-96e9-f40e6e1b7280",
   "metadata": {},
   "outputs": [],
   "source": [
    "tipiDegistirilmisYas= int(kullanicininYasi)"
   ]
  },
  {
   "cell_type": "code",
   "execution_count": 19,
   "id": "a5a4455b-3f08-40ab-844f-770f84fe1a1e",
   "metadata": {},
   "outputs": [
    {
     "data": {
      "text/plain": [
       "105"
      ]
     },
     "execution_count": 19,
     "metadata": {},
     "output_type": "execute_result"
    }
   ],
   "source": [
    "tipiDegistirilmisYas*5"
   ]
  },
  {
   "cell_type": "code",
   "execution_count": 20,
   "id": "f5989cc5-90f3-4ed1-badd-0922086c2f88",
   "metadata": {},
   "outputs": [],
   "source": [
    "metin= \"levent aslan\""
   ]
  },
  {
   "cell_type": "code",
   "execution_count": 21,
   "id": "0d07aa38-759d-495a-bcb6-58e25207c04a",
   "metadata": {},
   "outputs": [
    {
     "data": {
      "text/plain": [
       "['levent', 'aslan']"
      ]
     },
     "execution_count": 21,
     "metadata": {},
     "output_type": "execute_result"
    }
   ],
   "source": [
    "metin.split()"
   ]
  },
  {
   "cell_type": "code",
   "execution_count": 22,
   "id": "e7da8aa2-5cd7-4805-83db-c58a723b90ca",
   "metadata": {},
   "outputs": [
    {
     "data": {
      "text/plain": [
       "'Levent aslan'"
      ]
     },
     "execution_count": 22,
     "metadata": {},
     "output_type": "execute_result"
    }
   ],
   "source": [
    "metin.capitalize()"
   ]
  },
  {
   "cell_type": "code",
   "execution_count": 23,
   "id": "a7db78e7-b979-4111-85aa-d1f0061983a2",
   "metadata": {},
   "outputs": [
    {
     "data": {
      "text/plain": [
       "'levent aslan'"
      ]
     },
     "execution_count": 23,
     "metadata": {},
     "output_type": "execute_result"
    }
   ],
   "source": [
    "metin.lower()"
   ]
  },
  {
   "cell_type": "code",
   "execution_count": 24,
   "id": "ed66a31f-e036-4d76-9839-55c892a55f3b",
   "metadata": {},
   "outputs": [
    {
     "data": {
      "text/plain": [
       "12"
      ]
     },
     "execution_count": 24,
     "metadata": {},
     "output_type": "execute_result"
    }
   ],
   "source": [
    "len(metin)"
   ]
  },
  {
   "cell_type": "markdown",
   "id": "a58849ff-33d8-44da-9a67-441b63e975c7",
   "metadata": {},
   "source": [
    "## Index"
   ]
  },
  {
   "cell_type": "code",
   "execution_count": 25,
   "id": "30d28263-9af0-4703-8ad7-fa3b410546d2",
   "metadata": {},
   "outputs": [
    {
     "data": {
      "text/plain": [
       "'l'"
      ]
     },
     "execution_count": 25,
     "metadata": {},
     "output_type": "execute_result"
    }
   ],
   "source": [
    "metin[0]"
   ]
  },
  {
   "cell_type": "code",
   "execution_count": 26,
   "id": "acc17d2c-ffdb-4cf9-996d-70a78a397b48",
   "metadata": {},
   "outputs": [
    {
     "data": {
      "text/plain": [
       "'n'"
      ]
     },
     "execution_count": 26,
     "metadata": {},
     "output_type": "execute_result"
    }
   ],
   "source": [
    "##Son karakteri getirmek için\n",
    "metin[-1]"
   ]
  },
  {
   "cell_type": "code",
   "execution_count": 27,
   "id": "b4af7e01-b676-4be1-9a3c-7fd5e4fd5215",
   "metadata": {},
   "outputs": [
    {
     "data": {
      "text/plain": [
       "'ln'"
      ]
     },
     "execution_count": 27,
     "metadata": {},
     "output_type": "execute_result"
    }
   ],
   "source": [
    "metin[0] + metin[-1]"
   ]
  },
  {
   "cell_type": "code",
   "execution_count": 28,
   "id": "ce7cdac6-49bb-4ed1-ac46-4c2b57e38fe0",
   "metadata": {},
   "outputs": [],
   "source": [
    "yeniString=\"012345678\""
   ]
  },
  {
   "cell_type": "code",
   "execution_count": 29,
   "id": "7fc3ae8c-80e3-4397-9459-1c08a7acdbad",
   "metadata": {},
   "outputs": [
    {
     "data": {
      "text/plain": [
       "'2345678'"
      ]
     },
     "execution_count": 29,
     "metadata": {},
     "output_type": "execute_result"
    }
   ],
   "source": [
    "yeniString[2:]"
   ]
  },
  {
   "cell_type": "code",
   "execution_count": 30,
   "id": "b8e96731-4c63-4d58-8e39-fb798033563e",
   "metadata": {},
   "outputs": [
    {
     "data": {
      "text/plain": [
       "'01'"
      ]
     },
     "execution_count": 30,
     "metadata": {},
     "output_type": "execute_result"
    }
   ],
   "source": [
    "yeniString[:2]"
   ]
  },
  {
   "cell_type": "code",
   "execution_count": 31,
   "id": "c3a6a11e-3228-4b4a-bc76-b0b0a4472027",
   "metadata": {},
   "outputs": [
    {
     "data": {
      "text/plain": [
       "'876543210'"
      ]
     },
     "execution_count": 31,
     "metadata": {},
     "output_type": "execute_result"
    }
   ],
   "source": [
    "yeniString[::-1]"
   ]
  },
  {
   "cell_type": "markdown",
   "id": "7d108166-9f53-4ba8-86c7-9575a1c56c00",
   "metadata": {},
   "source": [
    "## Listeler"
   ]
  },
  {
   "cell_type": "code",
   "execution_count": 32,
   "id": "61bb7148-7610-4141-8410-f5adfcaab045",
   "metadata": {},
   "outputs": [],
   "source": [
    "benimString= \"Levent Aslan\""
   ]
  },
  {
   "cell_type": "code",
   "execution_count": 33,
   "id": "31b616f3-e2d0-47ad-8d3b-2771c74bcff6",
   "metadata": {},
   "outputs": [
    {
     "data": {
      "text/plain": [
       "'L'"
      ]
     },
     "execution_count": 33,
     "metadata": {},
     "output_type": "execute_result"
    }
   ],
   "source": [
    "benimString[0]"
   ]
  },
  {
   "cell_type": "code",
   "execution_count": 34,
   "id": "24299c17-c3e5-4f01-84e3-72763874ea5d",
   "metadata": {},
   "outputs": [],
   "source": [
    "# immutability & mutable \n",
    "# benimString[0]=\"B\" gibi bir işlem yapılamaz"
   ]
  },
  {
   "cell_type": "code",
   "execution_count": 35,
   "id": "5bac70ba-36c4-4dc8-a298-82caa4e9b51d",
   "metadata": {},
   "outputs": [],
   "source": [
    "benimListem=[10,20,30,40]"
   ]
  },
  {
   "cell_type": "code",
   "execution_count": 36,
   "id": "8b4868f6-c6bb-4312-866f-397f0765cc29",
   "metadata": {},
   "outputs": [
    {
     "data": {
      "text/plain": [
       "list"
      ]
     },
     "execution_count": 36,
     "metadata": {},
     "output_type": "execute_result"
    }
   ],
   "source": [
    "type(benimListem)"
   ]
  },
  {
   "cell_type": "code",
   "execution_count": 37,
   "id": "5a726444-1535-4f3d-bdb1-0ea94e085247",
   "metadata": {},
   "outputs": [],
   "source": [
    "#özel listelerde elemanlarda değişiklik yapılabileceği gibi farklı tipte değişkenlerde kullanılabilir\n",
    "benimListem[0]=100 "
   ]
  },
  {
   "cell_type": "code",
   "execution_count": 38,
   "id": "715b5998-52de-45ad-b8c9-5af7e47d9712",
   "metadata": {},
   "outputs": [
    {
     "data": {
      "text/plain": [
       "100"
      ]
     },
     "execution_count": 38,
     "metadata": {},
     "output_type": "execute_result"
    }
   ],
   "source": [
    "benimListem[0]"
   ]
  },
  {
   "cell_type": "code",
   "execution_count": 39,
   "id": "9715068b-da4f-4545-8d52-c4c07a564640",
   "metadata": {},
   "outputs": [],
   "source": [
    "benimListem.append(50)"
   ]
  },
  {
   "cell_type": "code",
   "execution_count": 40,
   "id": "b88c3cc2-ef79-4393-95d5-2b7579ab07c8",
   "metadata": {},
   "outputs": [
    {
     "data": {
      "text/plain": [
       "[100, 20, 30, 40, 50]"
      ]
     },
     "execution_count": 40,
     "metadata": {},
     "output_type": "execute_result"
    }
   ],
   "source": [
    "benimListem"
   ]
  },
  {
   "cell_type": "code",
   "execution_count": 41,
   "id": "b2dc70e2-3c30-4d0b-aaac-7f4832ed8eef",
   "metadata": {},
   "outputs": [
    {
     "data": {
      "text/plain": [
       "50"
      ]
     },
     "execution_count": 41,
     "metadata": {},
     "output_type": "execute_result"
    }
   ],
   "source": [
    "benimListem.pop()"
   ]
  },
  {
   "cell_type": "code",
   "execution_count": 42,
   "id": "81b83bb3-27f1-452f-9cf0-8d2dfb812246",
   "metadata": {},
   "outputs": [
    {
     "data": {
      "text/plain": [
       "[100, 20, 30, 40]"
      ]
     },
     "execution_count": 42,
     "metadata": {},
     "output_type": "execute_result"
    }
   ],
   "source": [
    "benimListem"
   ]
  },
  {
   "cell_type": "code",
   "execution_count": 43,
   "id": "d2970ab9-be8b-4bd8-9c83-f1043cb66f95",
   "metadata": {},
   "outputs": [
    {
     "data": {
      "text/plain": [
       "1"
      ]
     },
     "execution_count": 43,
     "metadata": {},
     "output_type": "execute_result"
    }
   ],
   "source": [
    "benimListem.count(20)"
   ]
  },
  {
   "cell_type": "code",
   "execution_count": 44,
   "id": "6e6a4c98-6333-4651-b9da-cdcd8bbb2888",
   "metadata": {},
   "outputs": [],
   "source": [
    "benimListem.append(20)"
   ]
  },
  {
   "cell_type": "code",
   "execution_count": 45,
   "id": "4b98e659-0ef7-4e2f-b684-b4d940cf198a",
   "metadata": {},
   "outputs": [
    {
     "data": {
      "text/plain": [
       "2"
      ]
     },
     "execution_count": 45,
     "metadata": {},
     "output_type": "execute_result"
    }
   ],
   "source": [
    "benimListem.count(20)"
   ]
  },
  {
   "cell_type": "code",
   "execution_count": 46,
   "id": "6f7ff890-b2a7-4d9a-8d23-f3bc6f218fa2",
   "metadata": {},
   "outputs": [
    {
     "data": {
      "text/plain": [
       "['Levent', 'Gorkem', 'Ahmet', 'Burak', 'Emre', 'Emirhan']"
      ]
     },
     "execution_count": 46,
     "metadata": {},
     "output_type": "execute_result"
    }
   ],
   "source": [
    "benimStringListem = [\"Levent\", \"Gorkem\",\"Ahmet\"]\n",
    "benimDigerStringListem = [\"Burak\",\"Emre\",\"Emirhan\"]\n",
    "benimToplamaListem = benimStringListem + benimDigerStringListem\n",
    "benimToplamaListem"
   ]
  },
  {
   "cell_type": "code",
   "execution_count": 47,
   "id": "e6309cde-221b-4371-8bcb-199998dc7053",
   "metadata": {},
   "outputs": [],
   "source": [
    "nestedList = [1,5,\"levent\",4,[6,\"z\"]]"
   ]
  },
  {
   "cell_type": "code",
   "execution_count": 48,
   "id": "7d4b534c-df78-4f59-9546-79ee3b3b2d73",
   "metadata": {},
   "outputs": [
    {
     "data": {
      "text/plain": [
       "[6, 'z']"
      ]
     },
     "execution_count": 48,
     "metadata": {},
     "output_type": "execute_result"
    }
   ],
   "source": [
    "#elemanaUlasma = nestedList[4][1] de yapılabilir \n",
    "elemanaUlasma = nestedList[4]\n",
    "elemanaUlasma"
   ]
  },
  {
   "cell_type": "code",
   "execution_count": 49,
   "id": "6898ee3c-276f-4330-bfbb-c3cb7091dda7",
   "metadata": {},
   "outputs": [
    {
     "data": {
      "text/plain": [
       "'z'"
      ]
     },
     "execution_count": 49,
     "metadata": {},
     "output_type": "execute_result"
    }
   ],
   "source": [
    "elemanaUlasma[1]"
   ]
  },
  {
   "cell_type": "markdown",
   "id": "905c37b2-5524-490a-903c-50ef3cfecb58",
   "metadata": {},
   "source": [
    "## Sozlukler\n",
    "key-value pairin(anahtar kelime - değer eşleşmesi)"
   ]
  },
  {
   "cell_type": "code",
   "execution_count": 50,
   "id": "43c7df53-16d0-4834-ac68-c6d4b8bd0ceb",
   "metadata": {},
   "outputs": [
    {
     "name": "stdout",
     "output_type": "stream",
     "text": [
      "karpuz\n"
     ]
    },
    {
     "data": {
      "text/plain": [
       "200"
      ]
     },
     "execution_count": 50,
     "metadata": {},
     "output_type": "execute_result"
    }
   ],
   "source": [
    "benimYemeklerim = [\"elma\",\"karpuz\",\"muz\"]\n",
    "benimKalorilerim = [100,200,300]\n",
    "print(benimYemeklerim[1])\n",
    "benimKalorilerim[1]"
   ]
  },
  {
   "cell_type": "code",
   "execution_count": 51,
   "id": "3b5795cc-7a18-4d9b-8c68-eab1e27f0a34",
   "metadata": {},
   "outputs": [
    {
     "data": {
      "text/plain": [
       "dict"
      ]
     },
     "execution_count": 51,
     "metadata": {},
     "output_type": "execute_result"
    }
   ],
   "source": [
    "benimSozluk = {\"anahtarkelime\": \"deger\"}\n",
    "type(benimSozluk)"
   ]
  },
  {
   "cell_type": "code",
   "execution_count": 52,
   "id": "bfae885a-5bad-4d26-b5d5-b4776401bc2e",
   "metadata": {},
   "outputs": [
    {
     "data": {
      "text/plain": [
       "'deger'"
      ]
     },
     "execution_count": 52,
     "metadata": {},
     "output_type": "execute_result"
    }
   ],
   "source": [
    "benimSozluk[\"anahtarkelime\"]"
   ]
  },
  {
   "cell_type": "code",
   "execution_count": 53,
   "id": "1fe50e48-4740-49c5-94ee-c065ea0f4036",
   "metadata": {},
   "outputs": [
    {
     "data": {
      "text/plain": [
       "300"
      ]
     },
     "execution_count": 53,
     "metadata": {},
     "output_type": "execute_result"
    }
   ],
   "source": [
    "benimYemekKaloriSozlugum = {\"elma\":100,\"karpuz\":200,\"muz\":300}\n",
    "benimYemekKaloriSozlugum[\"muz\"]"
   ]
  },
  {
   "cell_type": "code",
   "execution_count": 54,
   "id": "6da9af38-fa5e-4ece-9699-5cdbfc5cca11",
   "metadata": {},
   "outputs": [
    {
     "data": {
      "text/plain": [
       "{'elma': 200, 'karpuz': 200, 'muz': 300}"
      ]
     },
     "execution_count": 54,
     "metadata": {},
     "output_type": "execute_result"
    }
   ],
   "source": [
    "benimYemekKaloriSozlugum[\"elma\"]=200\n",
    "benimYemekKaloriSozlugum"
   ]
  },
  {
   "cell_type": "code",
   "execution_count": 55,
   "id": "5b3e55c5-226d-4c0e-a32b-b41192f1044d",
   "metadata": {},
   "outputs": [],
   "source": [
    "yeniDictionary= {\"anahtar1\":100 , \"anahtar2\": [10,20,30,40,4.5,\"atıl\"] , \"anahtar3\" : {\"anahtar9\":4}}"
   ]
  },
  {
   "cell_type": "code",
   "execution_count": 56,
   "id": "5e2b1b4e-66a4-4cf5-91e9-7d0698422538",
   "metadata": {},
   "outputs": [
    {
     "data": {
      "text/plain": [
       "dict_keys(['anahtar1', 'anahtar2', 'anahtar3'])"
      ]
     },
     "execution_count": 56,
     "metadata": {},
     "output_type": "execute_result"
    }
   ],
   "source": [
    "yeniDictionary.keys()"
   ]
  },
  {
   "cell_type": "code",
   "execution_count": 57,
   "id": "a0528dbc-582d-4d42-8c09-4c9ff94a14e2",
   "metadata": {},
   "outputs": [
    {
     "data": {
      "text/plain": [
       "dict_values([100, [10, 20, 30, 40, 4.5, 'atıl'], {'anahtar9': 4}])"
      ]
     },
     "execution_count": 57,
     "metadata": {},
     "output_type": "execute_result"
    }
   ],
   "source": [
    "yeniDictionary.values()"
   ]
  },
  {
   "cell_type": "code",
   "execution_count": 58,
   "id": "e469423a-378e-453a-875b-5cb400edef11",
   "metadata": {},
   "outputs": [],
   "source": [
    "atılKelimesi = yeniDictionary[\"anahtar2\"][5]"
   ]
  },
  {
   "cell_type": "code",
   "execution_count": 59,
   "id": "0247237b-56dc-4040-b675-8772dcb57886",
   "metadata": {},
   "outputs": [
    {
     "data": {
      "text/plain": [
       "'atıl'"
      ]
     },
     "execution_count": 59,
     "metadata": {},
     "output_type": "execute_result"
    }
   ],
   "source": [
    "atılKelimesi"
   ]
  },
  {
   "cell_type": "code",
   "execution_count": 60,
   "id": "a50ad6d0-4c43-4a67-bf2f-9938bc4a4058",
   "metadata": {},
   "outputs": [
    {
     "data": {
      "text/plain": [
       "4"
      ]
     },
     "execution_count": 60,
     "metadata": {},
     "output_type": "execute_result"
    }
   ],
   "source": [
    "dortSayisi = yeniDictionary[\"anahtar3\"][\"anahtar9\"]\n",
    "dortSayisi"
   ]
  },
  {
   "cell_type": "markdown",
   "id": "9989c9ed-2bf9-4080-9295-aed8166b9ff0",
   "metadata": {},
   "source": [
    "## Setler"
   ]
  },
  {
   "cell_type": "code",
   "execution_count": 61,
   "id": "f1873f65-26da-4933-93ae-03b4ce55a3db",
   "metadata": {},
   "outputs": [
    {
     "data": {
      "text/plain": [
       "[1, 2, 3, 1, 2, 3]"
      ]
     },
     "execution_count": 61,
     "metadata": {},
     "output_type": "execute_result"
    }
   ],
   "source": [
    "benimListem = [1,2,3,1,2,3]\n",
    "benimListem"
   ]
  },
  {
   "cell_type": "code",
   "execution_count": 62,
   "id": "2b99fa61-9508-4ade-9ba1-bd4389e4c9b4",
   "metadata": {},
   "outputs": [],
   "source": [
    "benimListeSetim = set(benimListem)"
   ]
  },
  {
   "cell_type": "code",
   "execution_count": 63,
   "id": "2facf234-c68c-4207-8833-0beb21c3096e",
   "metadata": {},
   "outputs": [
    {
     "data": {
      "text/plain": [
       "list"
      ]
     },
     "execution_count": 63,
     "metadata": {},
     "output_type": "execute_result"
    }
   ],
   "source": [
    "type(benimListem)"
   ]
  },
  {
   "cell_type": "code",
   "execution_count": 64,
   "id": "a236ba4d-cb9f-4cdf-89e4-970711885c10",
   "metadata": {},
   "outputs": [
    {
     "data": {
      "text/plain": [
       "set"
      ]
     },
     "execution_count": 64,
     "metadata": {},
     "output_type": "execute_result"
    }
   ],
   "source": [
    "type(benimListeSetim)"
   ]
  },
  {
   "cell_type": "code",
   "execution_count": 65,
   "id": "cb764700-7f67-46aa-9a76-fffca1991ec8",
   "metadata": {},
   "outputs": [
    {
     "data": {
      "text/plain": [
       "{1, 2, 3}"
      ]
     },
     "execution_count": 65,
     "metadata": {},
     "output_type": "execute_result"
    }
   ],
   "source": [
    "benimListeSetim"
   ]
  },
  {
   "cell_type": "code",
   "execution_count": 66,
   "id": "1bec1590-f253-4240-8723-87ee1bac8702",
   "metadata": {},
   "outputs": [
    {
     "data": {
      "text/plain": [
       "{'a', 'b', 'c'}"
      ]
     },
     "execution_count": 66,
     "metadata": {},
     "output_type": "execute_result"
    }
   ],
   "source": [
    "benimSetim = {\"a\",\"b\",\"c\",\"a\"}\n",
    "benimSetim"
   ]
  },
  {
   "cell_type": "markdown",
   "id": "c8f686fa-1523-4442-9902-744d528e991c",
   "metadata": {},
   "source": [
    " ## Tuple"
   ]
  },
  {
   "cell_type": "code",
   "execution_count": 67,
   "id": "6c0d1ec4-d550-4da5-81ec-4642964aa121",
   "metadata": {},
   "outputs": [
    {
     "data": {
      "text/plain": [
       "(1, 2, 'a', 4.5)"
      ]
     },
     "execution_count": 67,
     "metadata": {},
     "output_type": "execute_result"
    }
   ],
   "source": [
    "benimTuple = (1,2,\"a\",4.5)\n",
    "benimTuple"
   ]
  },
  {
   "cell_type": "code",
   "execution_count": 68,
   "id": "d7401a2e-9443-4e90-8e37-747ff6b8a9eb",
   "metadata": {},
   "outputs": [
    {
     "data": {
      "text/plain": [
       "1"
      ]
     },
     "execution_count": 68,
     "metadata": {},
     "output_type": "execute_result"
    }
   ],
   "source": [
    "benimTuple[0]"
   ]
  },
  {
   "cell_type": "code",
   "execution_count": 69,
   "id": "5276eaf9-74a7-44fd-90cc-39901344738a",
   "metadata": {},
   "outputs": [
    {
     "data": {
      "text/plain": [
       "'a'"
      ]
     },
     "execution_count": 69,
     "metadata": {},
     "output_type": "execute_result"
    }
   ],
   "source": [
    "benimTuple[2]\n",
    "#benimTuple[2]=\"b\" gibi bir kullanım olamaz listelerden farkı budur"
   ]
  },
  {
   "cell_type": "markdown",
   "id": "88738429-d037-4214-a71a-0fc29d6084d2",
   "metadata": {},
   "source": [
    "## Boolean"
   ]
  },
  {
   "cell_type": "code",
   "execution_count": 70,
   "id": "f3679d75-bda0-4424-8ef5-737a7d583621",
   "metadata": {},
   "outputs": [
    {
     "data": {
      "text/plain": [
       "True"
      ]
     },
     "execution_count": 70,
     "metadata": {},
     "output_type": "execute_result"
    }
   ],
   "source": [
    "benimBoolean = True\n",
    "benimBoolean"
   ]
  },
  {
   "cell_type": "code",
   "execution_count": 71,
   "id": "301b68df-cc7f-4cb0-8f82-5732859d728e",
   "metadata": {},
   "outputs": [
    {
     "data": {
      "text/plain": [
       "bool"
      ]
     },
     "execution_count": 71,
     "metadata": {},
     "output_type": "execute_result"
    }
   ],
   "source": [
    "type(benimBoolean)"
   ]
  },
  {
   "cell_type": "code",
   "execution_count": 72,
   "id": "27d002df-3405-4745-ac5b-7c3f672c22c0",
   "metadata": {},
   "outputs": [],
   "source": [
    "listem = [5000,10000,3000,1000,2000,4000]"
   ]
  },
  {
   "cell_type": "code",
   "execution_count": 73,
   "id": "bf72c7fb-dc16-469a-9f4d-f94815f0c8b8",
   "metadata": {},
   "outputs": [
    {
     "data": {
      "text/plain": [
       "6"
      ]
     },
     "execution_count": 73,
     "metadata": {},
     "output_type": "execute_result"
    }
   ],
   "source": [
    "len(listem)"
   ]
  },
  {
   "cell_type": "code",
   "execution_count": 74,
   "id": "12556867-411f-4108-bef8-239b3e6924e0",
   "metadata": {},
   "outputs": [
    {
     "data": {
      "text/plain": [
       "4166.666666666667"
      ]
     },
     "execution_count": 74,
     "metadata": {},
     "output_type": "execute_result"
    }
   ],
   "source": [
    "ortalama = sum(listem)/len(listem)\n",
    "ortalama"
   ]
  },
  {
   "cell_type": "code",
   "execution_count": 75,
   "id": "7e37a6ef-def8-4668-8bf5-6da6e620d60b",
   "metadata": {},
   "outputs": [
    {
     "name": "stdin",
     "output_type": "stream",
     "text": [
      "Maaş bilgisi giriniz:  6000\n"
     ]
    }
   ],
   "source": [
    "kullaniciMaas = input(\"Maaş bilgisi giriniz: \")"
   ]
  },
  {
   "cell_type": "code",
   "execution_count": 76,
   "id": "0d0ed765-7bfe-4ed9-b4c1-2f00f0bf992e",
   "metadata": {},
   "outputs": [
    {
     "data": {
      "text/plain": [
       "True"
      ]
     },
     "execution_count": 76,
     "metadata": {},
     "output_type": "execute_result"
    }
   ],
   "source": [
    "kullaniciMaasInt = int(kullaniciMaas)\n",
    "kullaniciMaasInt > ortalama"
   ]
  },
  {
   "cell_type": "markdown",
   "id": "b938deb6-c915-41e9-adda-9ef559941e9b",
   "metadata": {},
   "source": [
    "## Koşullar"
   ]
  },
  {
   "cell_type": "code",
   "execution_count": 77,
   "id": "a78fb63b-b50c-446a-9d1a-601b463feb97",
   "metadata": {},
   "outputs": [
    {
     "name": "stdout",
     "output_type": "stream",
     "text": [
      "if koşulu sağlanmadı\n"
     ]
    }
   ],
   "source": [
    "if 3>4:\n",
    "    print(\"Levent aslan\")\n",
    "    print(\"if koşulu sağlandı\")\n",
    "print(\"if koşulu sağlanmadı\")"
   ]
  },
  {
   "cell_type": "code",
   "execution_count": 78,
   "id": "cb1d9121-17ce-4d65-8797-82d56983bd46",
   "metadata": {},
   "outputs": [
    {
     "name": "stdout",
     "output_type": "stream",
     "text": [
      "y, x'den daha büyükmüş\n"
     ]
    }
   ],
   "source": [
    "x=3\n",
    "y=4\n",
    "if x>y:\n",
    "    print(\"x, y'den daha büyükmüş\")\n",
    "elif y>x:\n",
    "    print(\"y, x'den daha büyükmüş\")\n",
    "else:\n",
    "    print(\"y ve x birbirlerine eşitmiş\")"
   ]
  },
  {
   "cell_type": "code",
   "execution_count": 79,
   "id": "4eda4267-d69a-4cb9-a8a3-9d3bbc9ee7f9",
   "metadata": {},
   "outputs": [
    {
     "name": "stdin",
     "output_type": "stream",
     "text": [
      "Super kahraman seçiniz:  Ironman\n"
     ]
    }
   ],
   "source": [
    "benimKahramanim = input(\"Super kahraman seçiniz: \")"
   ]
  },
  {
   "cell_type": "code",
   "execution_count": 80,
   "id": "7c2ca09c-239b-4082-b3d8-2ddff0da0203",
   "metadata": {},
   "outputs": [
    {
     "name": "stdout",
     "output_type": "stream",
     "text": [
      "Ironman'i seçtiniz tebrikler\n"
     ]
    }
   ],
   "source": [
    "if benimKahramanim==\"Ironman\":\n",
    "    print(\"Ironman'i seçtiniz tebrikler\")\n",
    "elif benimKahramanim==\"Superman\":\n",
    "    print(\"Keske Ironman'i seçseydiniz\")\n",
    "elif benimKahramanim==\"Super Baba\":\n",
    "    print(\"Super baba kimdir?\")\n",
    "else:\n",
    "    print(\"Bu kahraman kim gerçekten bilmiyoruz\")"
   ]
  },
  {
   "cell_type": "code",
   "execution_count": 81,
   "id": "5739e439-8390-459d-b95c-d08a6a309513",
   "metadata": {},
   "outputs": [],
   "source": [
    "a=10\n",
    "b=20\n",
    "c=30"
   ]
  },
  {
   "cell_type": "code",
   "execution_count": 82,
   "id": "63abdde0-ffe7-4497-9876-0664a9ef35fe",
   "metadata": {},
   "outputs": [
    {
     "name": "stdout",
     "output_type": "stream",
     "text": [
      "a,b'den küçük VE b de c'den küçük\n"
     ]
    }
   ],
   "source": [
    "if a>b and b<c:\n",
    "    print(\"a,b'den büyük VE b de c'den büyük\")\n",
    "elif a<b and b<c:\n",
    "    print(\"a,b'den küçük VE b de c'den küçük\")"
   ]
  },
  {
   "cell_type": "code",
   "execution_count": 83,
   "id": "074dc2c6-8bf3-40e3-9668-17641023e121",
   "metadata": {},
   "outputs": [
    {
     "name": "stdout",
     "output_type": "stream",
     "text": [
      "varmış\n"
     ]
    }
   ],
   "source": [
    "benimAdim = \"Levent Aslan\"\n",
    "if \"Aslan\" in benimAdim:\n",
    "    print(\"varmış\")\n",
    "else:\n",
    "    print(\"yokmuş\")"
   ]
  },
  {
   "cell_type": "code",
   "execution_count": 84,
   "id": "7a15864f-74ed-49d0-b0a1-8de46946921f",
   "metadata": {},
   "outputs": [],
   "source": [
    "sayiListesi = [10,20,30,40,50,60,70]"
   ]
  },
  {
   "cell_type": "code",
   "execution_count": 85,
   "id": "137d66e6-cf52-4e57-8f93-e69c0077b1f6",
   "metadata": {},
   "outputs": [
    {
     "name": "stdin",
     "output_type": "stream",
     "text": [
      "Bir sayi giriniz :  22\n"
     ]
    }
   ],
   "source": [
    "girilenSayi = input(\"Bir sayi giriniz : \")"
   ]
  },
  {
   "cell_type": "code",
   "execution_count": 86,
   "id": "1474017e-f5bc-4368-a9d0-5e651f6c5800",
   "metadata": {},
   "outputs": [
    {
     "name": "stdout",
     "output_type": "stream",
     "text": [
      "[10, 20, 30, 40, 50, 60, 70]\n",
      "Girilen sayi listede mevcut değil\n",
      "Sayi artık listeye eklendi\n",
      "[10, 20, 30, 40, 50, 60, 70, 22]\n"
     ]
    }
   ],
   "source": [
    "print(sayiListesi)\n",
    "if girilenSayi in sayiListesi:\n",
    "    print(\"Girilen sayi listede mevcut\")\n",
    "else:\n",
    "    print(\"Girilen sayi listede mevcut değil\")\n",
    "    girilenSayiInt= int(girilenSayi)\n",
    "    sayiListesi.append(girilenSayiInt)\n",
    "    print(\"Sayi artık listeye eklendi\")\n",
    "print(sayiListesi)"
   ]
  },
  {
   "cell_type": "markdown",
   "id": "90257421-8a90-41f8-a1b0-881c4fd47a3b",
   "metadata": {},
   "source": [
    "## Donguler"
   ]
  },
  {
   "cell_type": "code",
   "execution_count": 87,
   "id": "a2ce37bb-e024-4afb-bc2b-ac02a1c1ebb8",
   "metadata": {},
   "outputs": [],
   "source": [
    "benimListem = [10,20,30,40,50]"
   ]
  },
  {
   "cell_type": "code",
   "execution_count": 88,
   "id": "a7b71502-e998-4adf-a3ed-d1914ae3d567",
   "metadata": {},
   "outputs": [
    {
     "name": "stdout",
     "output_type": "stream",
     "text": [
      "evet içerisinde mevcut\n"
     ]
    }
   ],
   "source": [
    "if 10 in benimListem:\n",
    "    print(\"evet içerisinde mevcut\")"
   ]
  },
  {
   "cell_type": "code",
   "execution_count": 89,
   "id": "9d9e6ff9-9022-45ba-99fe-3e5ae2e3a23a",
   "metadata": {},
   "outputs": [
    {
     "data": {
      "text/plain": [
       "16.666666666666668"
      ]
     },
     "execution_count": 89,
     "metadata": {},
     "output_type": "execute_result"
    }
   ],
   "source": [
    "benimListem[0]*5/3"
   ]
  },
  {
   "cell_type": "code",
   "execution_count": 90,
   "id": "1491cfcb-5a38-4d00-883d-b043b132b133",
   "metadata": {},
   "outputs": [
    {
     "name": "stdout",
     "output_type": "stream",
     "text": [
      "16.666666666666668\n",
      "33.333333333333336\n",
      "50.0\n",
      "66.66666666666667\n",
      "83.33333333333333\n"
     ]
    }
   ],
   "source": [
    "for i in benimListem:\n",
    "    sonuc = i*5/3\n",
    "    print(sonuc)"
   ]
  },
  {
   "cell_type": "code",
   "execution_count": 91,
   "id": "395a9afd-63b0-4745-979c-596983a12c78",
   "metadata": {},
   "outputs": [],
   "source": [
    "yeniListe = [1,2,3,4,5,6]"
   ]
  },
  {
   "cell_type": "code",
   "execution_count": 92,
   "id": "55a6fa50-5fbc-46df-8f2b-20c2479f827f",
   "metadata": {},
   "outputs": [
    {
     "name": "stdout",
     "output_type": "stream",
     "text": [
      "2\n",
      "4\n",
      "6\n"
     ]
    }
   ],
   "source": [
    "for rakam in yeniListe:\n",
    "    if rakam%2==0:\n",
    "        print(rakam)"
   ]
  },
  {
   "cell_type": "code",
   "execution_count": 93,
   "id": "530fcabb-5bbc-44f9-9353-28db025d5137",
   "metadata": {},
   "outputs": [],
   "source": [
    "benimTuple = (1,2,3,4,5,6)"
   ]
  },
  {
   "cell_type": "code",
   "execution_count": 94,
   "id": "792c731b-7308-43bd-a505-58646c3dc6b4",
   "metadata": {},
   "outputs": [
    {
     "name": "stdout",
     "output_type": "stream",
     "text": [
      "1\n",
      "2\n",
      "3\n",
      "4\n",
      "5\n",
      "6\n"
     ]
    }
   ],
   "source": [
    "for i in benimTuple:\n",
    "    print(i)"
   ]
  },
  {
   "cell_type": "code",
   "execution_count": 95,
   "id": "b523eab6-5864-4fb9-a2f6-da136b80804a",
   "metadata": {},
   "outputs": [],
   "source": [
    "koordinatListesi = [(10.2,15.2),(32.4,16.2),(40.2,20.2)]"
   ]
  },
  {
   "cell_type": "code",
   "execution_count": 96,
   "id": "358100fb-9cb1-4bc6-a8b3-d62b67aaa7f5",
   "metadata": {},
   "outputs": [
    {
     "data": {
      "text/plain": [
       "list"
      ]
     },
     "execution_count": 96,
     "metadata": {},
     "output_type": "execute_result"
    }
   ],
   "source": [
    "type(koordinatListesi)"
   ]
  },
  {
   "cell_type": "code",
   "execution_count": 97,
   "id": "273238dd-5a9b-4af8-a9c3-570e2cf7b741",
   "metadata": {},
   "outputs": [
    {
     "data": {
      "text/plain": [
       "tuple"
      ]
     },
     "execution_count": 97,
     "metadata": {},
     "output_type": "execute_result"
    }
   ],
   "source": [
    "type(koordinatListesi[0])"
   ]
  },
  {
   "cell_type": "code",
   "execution_count": 98,
   "id": "03ee4bbd-248a-4ea9-91fb-2ed4b999aedd",
   "metadata": {},
   "outputs": [
    {
     "name": "stdout",
     "output_type": "stream",
     "text": [
      "(10.2, 15.2)\n",
      "(32.4, 16.2)\n",
      "(40.2, 20.2)\n"
     ]
    }
   ],
   "source": [
    "for eleman in koordinatListesi:\n",
    "    print(eleman)"
   ]
  },
  {
   "cell_type": "code",
   "execution_count": 99,
   "id": "b6292f1f-490e-4c21-9ff1-1357c96fa690",
   "metadata": {},
   "outputs": [
    {
     "name": "stdout",
     "output_type": "stream",
     "text": [
      "10.2\n",
      "32.4\n",
      "40.2\n"
     ]
    }
   ],
   "source": [
    "for (x,y) in koordinatListesi:\n",
    "    print(x)"
   ]
  },
  {
   "cell_type": "code",
   "execution_count": 100,
   "id": "ac7ec443-b880-4865-aeaf-4f246ad481b0",
   "metadata": {},
   "outputs": [],
   "source": [
    "benimSozluk = {\"muz\":150, \"portakal\": 250, \"elma\" :400}"
   ]
  },
  {
   "cell_type": "code",
   "execution_count": 101,
   "id": "027b45ca-a48d-4a2b-97e2-ca7ae5db5066",
   "metadata": {},
   "outputs": [
    {
     "data": {
      "text/plain": [
       "dict_items([('muz', 150), ('portakal', 250), ('elma', 400)])"
      ]
     },
     "execution_count": 101,
     "metadata": {},
     "output_type": "execute_result"
    }
   ],
   "source": [
    "benimSozluk.items()\n",
    "#itemlerin içeriği tuple gibi davrandığı için döngüde tupleda kullanıldığı gibi kullanılabilir"
   ]
  },
  {
   "cell_type": "code",
   "execution_count": 102,
   "id": "d33bb261-992f-414c-9375-6cf1cb774650",
   "metadata": {},
   "outputs": [
    {
     "name": "stdout",
     "output_type": "stream",
     "text": [
      "muz\n",
      "portakal\n",
      "elma\n"
     ]
    }
   ],
   "source": [
    "for (anahtar,key) in benimSozluk.items():\n",
    "    print(anahtar)"
   ]
  },
  {
   "cell_type": "markdown",
   "id": "b6815973-f2f2-432d-adfe-8a83b8201523",
   "metadata": {},
   "source": [
    "## Continue/Break/Pass"
   ]
  },
  {
   "cell_type": "code",
   "execution_count": 103,
   "id": "f9c2b3e1-42b6-4e0a-bbef-7d3afab1248d",
   "metadata": {},
   "outputs": [],
   "source": [
    "benimListem = [5,10,15,20,25,30]"
   ]
  },
  {
   "cell_type": "code",
   "execution_count": 104,
   "id": "90cb1bed-b794-4ecf-a2c9-2bb589b14074",
   "metadata": {},
   "outputs": [
    {
     "name": "stdout",
     "output_type": "stream",
     "text": [
      "1.0\n",
      "2.0\n",
      "3.0\n",
      "4.0\n",
      "5.0\n",
      "6.0\n"
     ]
    }
   ],
   "source": [
    "for numara in benimListem:\n",
    "    print(numara/5)"
   ]
  },
  {
   "cell_type": "code",
   "execution_count": 105,
   "id": "7c4fd1e4-1e7f-4aeb-a861-a57f0e575354",
   "metadata": {},
   "outputs": [
    {
     "name": "stdout",
     "output_type": "stream",
     "text": [
      "5\n",
      "10\n"
     ]
    }
   ],
   "source": [
    "for numara in benimListem:\n",
    "    if numara == 15:\n",
    "        break\n",
    "    print(numara)"
   ]
  },
  {
   "cell_type": "code",
   "execution_count": 106,
   "id": "06e4531a-b771-47f1-8d1b-b024bf7bb72c",
   "metadata": {},
   "outputs": [
    {
     "name": "stdout",
     "output_type": "stream",
     "text": [
      "5\n",
      "10\n",
      "20\n",
      "25\n",
      "30\n"
     ]
    }
   ],
   "source": [
    "for numara in benimListem:\n",
    "    if numara == 15:\n",
    "        continue\n",
    "    print(numara)"
   ]
  },
  {
   "cell_type": "code",
   "execution_count": 107,
   "id": "725a803b-3c93-4440-8e8a-ad25d290589e",
   "metadata": {},
   "outputs": [
    {
     "name": "stdout",
     "output_type": "stream",
     "text": [
      "5\n",
      "10\n",
      "15\n",
      "20\n",
      "25\n",
      "30\n"
     ]
    }
   ],
   "source": [
    "for numara in benimListem:\n",
    "    if numara == 15:\n",
    "        pass\n",
    "    print(numara)"
   ]
  },
  {
   "cell_type": "markdown",
   "id": "5368d927-0795-4ccc-b732-158b0efceb9b",
   "metadata": {},
   "source": [
    "## While dongusu"
   ]
  },
  {
   "cell_type": "code",
   "execution_count": 108,
   "id": "c4b4a64b-b06d-48c0-a5e0-94227346a515",
   "metadata": {},
   "outputs": [],
   "source": [
    "x=0"
   ]
  },
  {
   "cell_type": "code",
   "execution_count": 109,
   "id": "58e93df2-989d-4df0-9654-1b2f896ee168",
   "metadata": {},
   "outputs": [
    {
     "name": "stdout",
     "output_type": "stream",
     "text": [
      "0\n",
      "1\n",
      "2\n",
      "3\n",
      "4\n",
      "5\n",
      "6\n",
      "7\n",
      "8\n",
      "9\n"
     ]
    }
   ],
   "source": [
    "while x<10:\n",
    "    print(x)\n",
    "    x=x+1"
   ]
  },
  {
   "cell_type": "code",
   "execution_count": 110,
   "id": "864f90bd-3862-4b6e-9ee3-9b6c0cfd14a4",
   "metadata": {},
   "outputs": [],
   "source": [
    "benimListem = [1,2,3,4,5]"
   ]
  },
  {
   "cell_type": "code",
   "execution_count": 111,
   "id": "5777da67-26ed-4aac-b204-d42fdbd55622",
   "metadata": {},
   "outputs": [
    {
     "name": "stdout",
     "output_type": "stream",
     "text": [
      "3 hala listenin içerisinde\n",
      "3 hala listenin içerisinde\n",
      "3 hala listenin içerisinde\n",
      "Listenin içerisinde 3 kalmadı\n"
     ]
    }
   ],
   "source": [
    "while 3 in benimListem:\n",
    "    print(\"3 hala listenin içerisinde\")\n",
    "    benimListem.pop()\n",
    "print(\"Listenin içerisinde 3 kalmadı\")"
   ]
  },
  {
   "cell_type": "code",
   "execution_count": 112,
   "id": "4abacd51-ace5-4c43-b7c7-342e513d9ba0",
   "metadata": {},
   "outputs": [],
   "source": [
    "numara = 0"
   ]
  },
  {
   "cell_type": "code",
   "execution_count": 113,
   "id": "e16e821f-6aee-4b34-8ce7-8f739c93e035",
   "metadata": {},
   "outputs": [
    {
     "name": "stdout",
     "output_type": "stream",
     "text": [
      "0\n",
      "1\n",
      "2\n",
      "3\n"
     ]
    }
   ],
   "source": [
    "while numara < 5:\n",
    "    if numara == 4:\n",
    "        break\n",
    "    print(numara)\n",
    "    numara = numara + 1"
   ]
  },
  {
   "cell_type": "code",
   "execution_count": 114,
   "id": "f9b8deee-d32e-4064-a098-5a2751bbc5ee",
   "metadata": {},
   "outputs": [
    {
     "name": "stdout",
     "output_type": "stream",
     "text": [
      "yeniDegisken'in güncel değeri : 0\n",
      "yeniDegisken'in güncel değeri : 1\n",
      "yeniDegisken'in güncel değeri : 2\n",
      "yeniDegisken'in güncel değeri : 3\n",
      "yeniDegisken'in güncel değeri : 4\n",
      "yeniDegisken'in güncel değeri : 5\n",
      "yeniDegisken'in güncel değeri : 6\n",
      "yeniDegisken'in güncel değeri : 7\n",
      "yeniDegisken'in güncel değeri : 8\n",
      "yeniDegisken'in güncel değeri : 9\n",
      "yeniDegisken'in güncel değeri : 10\n",
      "yeniDegisken'in güncel değeri : 11\n",
      "yeniDegisken'in güncel değeri : 12\n",
      "yeniDegisken'in güncel değeri : 13\n",
      "yeniDegisken'in güncel değeri : 14\n"
     ]
    }
   ],
   "source": [
    "yeniDegisken = 0\n",
    "while yeniDegisken < 15:\n",
    "    #print(\"yeniDegisken'in güncel değeri : \" + str(yeniDegisken))\n",
    "    print(f\"yeniDegisken'in güncel değeri : {yeniDegisken}\")\n",
    "    yeniDegisken = yeniDegisken+1"
   ]
  },
  {
   "cell_type": "markdown",
   "id": "eb116660-7049-4174-88f0-c6b65e8dee2b",
   "metadata": {},
   "source": [
    "## Veri bilimi faydalı methodlar"
   ]
  },
  {
   "cell_type": "markdown",
   "id": "6a38ceaa-067f-4567-b62f-03601f2be678",
   "metadata": {},
   "source": [
    "## range"
   ]
  },
  {
   "cell_type": "code",
   "execution_count": 115,
   "id": "bf8f1c69-f6c5-4209-8c87-050510847a3e",
   "metadata": {},
   "outputs": [
    {
     "data": {
      "text/plain": [
       "range(0, 15)"
      ]
     },
     "execution_count": 115,
     "metadata": {},
     "output_type": "execute_result"
    }
   ],
   "source": [
    "range(15)"
   ]
  },
  {
   "cell_type": "code",
   "execution_count": 116,
   "id": "a819047b-e48f-4462-997f-bbcf91f7217f",
   "metadata": {},
   "outputs": [
    {
     "data": {
      "text/plain": [
       "[0, 1, 2, 3, 4, 5, 6, 7, 8, 9, 10, 11, 12, 13, 14]"
      ]
     },
     "execution_count": 116,
     "metadata": {},
     "output_type": "execute_result"
    }
   ],
   "source": [
    "list(range(15))"
   ]
  },
  {
   "cell_type": "code",
   "execution_count": 117,
   "id": "bd6ee533-9ac7-4d19-a6c0-05f2e23f318a",
   "metadata": {},
   "outputs": [
    {
     "name": "stdout",
     "output_type": "stream",
     "text": [
      "0\n",
      "5\n",
      "10\n",
      "15\n",
      "20\n",
      "25\n",
      "30\n",
      "35\n",
      "40\n",
      "45\n",
      "50\n",
      "55\n",
      "60\n",
      "65\n",
      "70\n"
     ]
    }
   ],
   "source": [
    "for numara in list(range(15)):\n",
    "    print(numara * 5)"
   ]
  },
  {
   "cell_type": "code",
   "execution_count": 118,
   "id": "bf24cffc-7537-4f42-b433-4232aa9b40ff",
   "metadata": {},
   "outputs": [
    {
     "data": {
      "text/plain": [
       "[5, 9, 13, 17]"
      ]
     },
     "execution_count": 118,
     "metadata": {},
     "output_type": "execute_result"
    }
   ],
   "source": [
    "list(range(5,21,4))\n",
    "# 5 ile başla 21 e kadar git 4 atla \n"
   ]
  },
  {
   "cell_type": "markdown",
   "id": "0c3a8fbf-8b9f-4d53-bf98-268441a8656a",
   "metadata": {},
   "source": [
    "## enumerate"
   ]
  },
  {
   "cell_type": "code",
   "execution_count": 119,
   "id": "489602ec-adfd-4070-afdf-d9015b75afdc",
   "metadata": {},
   "outputs": [
    {
     "name": "stdout",
     "output_type": "stream",
     "text": [
      "güncel numara : 5 güncel index : 0\n",
      "güncel numara : 6 güncel index : 1\n",
      "güncel numara : 7 güncel index : 2\n",
      "güncel numara : 8 güncel index : 3\n",
      "güncel numara : 9 güncel index : 4\n",
      "güncel numara : 10 güncel index : 5\n",
      "güncel numara : 11 güncel index : 6\n",
      "güncel numara : 12 güncel index : 7\n",
      "güncel numara : 13 güncel index : 8\n",
      "güncel numara : 14 güncel index : 9\n"
     ]
    }
   ],
   "source": [
    "index = 0\n",
    "for numara in list(range(5,15)):\n",
    "    print(f\"güncel numara : {numara} güncel index : {index}\")\n",
    "    index = index + 1"
   ]
  },
  {
   "cell_type": "code",
   "execution_count": 120,
   "id": "26128c53-f7ec-4efd-a0d7-4e0b16609bc7",
   "metadata": {},
   "outputs": [
    {
     "name": "stdout",
     "output_type": "stream",
     "text": [
      "(0, 5)\n",
      "(1, 6)\n",
      "(2, 7)\n",
      "(3, 8)\n",
      "(4, 9)\n",
      "(5, 10)\n",
      "(6, 11)\n",
      "(7, 12)\n",
      "(8, 13)\n",
      "(9, 14)\n"
     ]
    }
   ],
   "source": [
    "for eleman in enumerate(list(range(5,15))):\n",
    "    print(eleman)"
   ]
  },
  {
   "cell_type": "code",
   "execution_count": 121,
   "id": "a6676757-137b-4025-b385-8d3220d4b310",
   "metadata": {},
   "outputs": [
    {
     "name": "stdout",
     "output_type": "stream",
     "text": [
      "5\n",
      "6\n",
      "7\n",
      "8\n",
      "9\n",
      "10\n",
      "11\n",
      "12\n",
      "13\n",
      "14\n"
     ]
    }
   ],
   "source": [
    "#içerik tuple olduğu için böyle kullanım yapılabilir\n",
    "for (index,numara) in enumerate(list(range(5,15))):\n",
    "    print(numara)"
   ]
  },
  {
   "cell_type": "markdown",
   "id": "4daec6b9-a769-48e7-8c2d-c018a3505b02",
   "metadata": {},
   "source": [
    "## random"
   ]
  },
  {
   "cell_type": "code",
   "execution_count": 122,
   "id": "d85bb67f-207b-4705-b1ea-3bfd70181d07",
   "metadata": {},
   "outputs": [],
   "source": [
    "from random import randint"
   ]
  },
  {
   "cell_type": "code",
   "execution_count": 123,
   "id": "65633ec1-655b-4fa1-a111-44cc756d98fc",
   "metadata": {},
   "outputs": [
    {
     "data": {
      "text/plain": [
       "95"
      ]
     },
     "execution_count": 123,
     "metadata": {},
     "output_type": "execute_result"
    }
   ],
   "source": [
    "randint(0,100)"
   ]
  },
  {
   "cell_type": "code",
   "execution_count": 124,
   "id": "8aa51ff0-0f66-4768-af19-4514f805cd64",
   "metadata": {},
   "outputs": [],
   "source": [
    "yeniListe = list(range(0,10))"
   ]
  },
  {
   "cell_type": "code",
   "execution_count": 125,
   "id": "3f7683da-ad73-4cde-b833-ae37ca5f8468",
   "metadata": {},
   "outputs": [
    {
     "data": {
      "text/plain": [
       "[0, 1, 2, 3, 4, 5, 6, 7, 8, 9]"
      ]
     },
     "execution_count": 125,
     "metadata": {},
     "output_type": "execute_result"
    }
   ],
   "source": [
    "yeniListe"
   ]
  },
  {
   "cell_type": "code",
   "execution_count": 126,
   "id": "dfe1ba31-25ba-4a4f-8bf9-601b5ababa50",
   "metadata": {},
   "outputs": [
    {
     "data": {
      "text/plain": [
       "3"
      ]
     },
     "execution_count": 126,
     "metadata": {},
     "output_type": "execute_result"
    }
   ],
   "source": [
    "yeniListe[randint(0,9)]"
   ]
  },
  {
   "cell_type": "code",
   "execution_count": 127,
   "id": "f1657ad2-038b-4723-8422-acf643292675",
   "metadata": {},
   "outputs": [],
   "source": [
    "from random import shuffle"
   ]
  },
  {
   "cell_type": "code",
   "execution_count": 128,
   "id": "1390fffa-c3d5-449a-9e29-a8886172feac",
   "metadata": {},
   "outputs": [],
   "source": [
    "# elemanları karıştırmak için\n",
    "shuffle(yeniListe)"
   ]
  },
  {
   "cell_type": "code",
   "execution_count": 129,
   "id": "4818bb74-7051-400e-8c33-27313125538a",
   "metadata": {},
   "outputs": [
    {
     "data": {
      "text/plain": [
       "[4, 5, 0, 8, 9, 6, 2, 3, 7, 1]"
      ]
     },
     "execution_count": 129,
     "metadata": {},
     "output_type": "execute_result"
    }
   ],
   "source": [
    "yeniListe"
   ]
  },
  {
   "cell_type": "markdown",
   "id": "07e70837-a742-49ed-80da-827c9bb704e2",
   "metadata": {},
   "source": [
    "## zip"
   ]
  },
  {
   "cell_type": "code",
   "execution_count": 130,
   "id": "ba2bc3db-64eb-4e14-b50a-fbd2a2eb766c",
   "metadata": {},
   "outputs": [],
   "source": [
    "yemekListesi = [\"muz\",\"ananas\",\"elma\"]\n",
    "kaloriListesi = [100,200,300]\n",
    "gunListesi = [\"pazartesi\",\"salı\",\"çarşamba\"]"
   ]
  },
  {
   "cell_type": "code",
   "execution_count": 131,
   "id": "146c04c7-475e-4295-b359-ebcae5c76c5e",
   "metadata": {},
   "outputs": [],
   "source": [
    "ziplenmisListe = list(zip(yemekListesi,kaloriListesi,gunListesi))"
   ]
  },
  {
   "cell_type": "code",
   "execution_count": 132,
   "id": "c2281f8d-c4cf-4041-a087-c65a7d864deb",
   "metadata": {},
   "outputs": [
    {
     "name": "stdout",
     "output_type": "stream",
     "text": [
      "<class 'tuple'>\n",
      "<class 'tuple'>\n",
      "<class 'tuple'>\n"
     ]
    }
   ],
   "source": [
    "for eleman in ziplenmisListe:\n",
    "    print(type(eleman))"
   ]
  },
  {
   "cell_type": "code",
   "execution_count": 133,
   "id": "d38396ec-d69a-4624-aa15-156a8ce89f59",
   "metadata": {},
   "outputs": [
    {
     "data": {
      "text/plain": [
       "[('muz', 100, 'pazartesi'), ('ananas', 200, 'salı'), ('elma', 300, 'çarşamba')]"
      ]
     },
     "execution_count": 133,
     "metadata": {},
     "output_type": "execute_result"
    }
   ],
   "source": [
    "ziplenmisListe"
   ]
  },
  {
   "cell_type": "markdown",
   "id": "91da2e11-373d-4a57-9451-4a06c8e4651c",
   "metadata": {},
   "source": [
    "## Listeler ileri seviye"
   ]
  },
  {
   "cell_type": "code",
   "execution_count": 134,
   "id": "974bb022-f78f-4fe3-b6eb-3f4b3fb4d74c",
   "metadata": {},
   "outputs": [
    {
     "data": {
      "text/plain": [
       "['L', 'e', 'v', 'e', 'n', 't', ' ', 'a', 's', 'l', 'a', 'n']"
      ]
     },
     "execution_count": 134,
     "metadata": {},
     "output_type": "execute_result"
    }
   ],
   "source": [
    "listeOrnegi = []\n",
    "benimAdim = \"Levent aslan\"\n",
    "\n",
    "for harf in benimAdim:\n",
    "    listeOrnegi.append(harf)\n",
    "listeOrnegi"
   ]
  },
  {
   "cell_type": "markdown",
   "id": "5a7eeacb-a497-48a3-972d-0a6ebcabb8bb",
   "metadata": {},
   "source": [
    "## Fonksiyonlar"
   ]
  },
  {
   "cell_type": "code",
   "execution_count": 135,
   "id": "4b6c8244-8f5e-4e05-bd17-148aed622d51",
   "metadata": {},
   "outputs": [],
   "source": [
    "benimAdim = \"Levent aslan\""
   ]
  },
  {
   "cell_type": "code",
   "execution_count": 136,
   "id": "3d8da5c1-73cd-4423-a0ee-27706862e55f",
   "metadata": {},
   "outputs": [
    {
     "data": {
      "text/plain": [
       "'LEVENT ASLAN'"
      ]
     },
     "execution_count": 136,
     "metadata": {},
     "output_type": "execute_result"
    }
   ],
   "source": [
    "benimAdim.upper()"
   ]
  },
  {
   "cell_type": "code",
   "execution_count": 137,
   "id": "455b8669-8cb1-4b0b-9952-eb6167757311",
   "metadata": {},
   "outputs": [
    {
     "name": "stdout",
     "output_type": "stream",
     "text": [
      "ilk fonksiyon\n"
     ]
    }
   ],
   "source": [
    "def ilkFonksiyon():\n",
    "    print(\"ilk fonksiyon\")\n",
    "ilkFonksiyon()"
   ]
  },
  {
   "cell_type": "markdown",
   "id": "1fdfe946-cb7a-4d47-8941-76c049e42c14",
   "metadata": {},
   "source": [
    "## input & return"
   ]
  },
  {
   "cell_type": "code",
   "execution_count": 138,
   "id": "c1ad8394-0290-4671-8cf6-e347c28957bd",
   "metadata": {},
   "outputs": [
    {
     "name": "stdout",
     "output_type": "stream",
     "text": [
      "merhaba Levent aslan  \n"
     ]
    }
   ],
   "source": [
    "def merhabaDunya(yazdiralacakIsim):\n",
    "    print(f\"merhaba {yazdiralacakIsim} \")\n",
    "merhabaDunya(\"Levent aslan \")"
   ]
  },
  {
   "cell_type": "code",
   "execution_count": 139,
   "id": "418e6c79-cd21-449a-85c4-0eb9c4d9b622",
   "metadata": {},
   "outputs": [
    {
     "name": "stdout",
     "output_type": "stream",
     "text": [
      "merhaba Levent \n",
      "merhaba Burak \n"
     ]
    }
   ],
   "source": [
    "# bir değer verilmezse levent yazacak direkt\n",
    "def merhabaDunya(yazdiralacakIsim = \"Levent\"):\n",
    "    print(f\"merhaba {yazdiralacakIsim} \")\n",
    "    \n",
    "merhabaDunya()\n",
    "merhabaDunya(\"Burak\")"
   ]
  },
  {
   "cell_type": "code",
   "execution_count": 140,
   "id": "5f76b9f8-5075-4f30-9826-b079b0ab497e",
   "metadata": {},
   "outputs": [
    {
     "name": "stdout",
     "output_type": "stream",
     "text": [
      "31\n"
     ]
    }
   ],
   "source": [
    "def toplama (numara1,numara2):\n",
    "    sonuc = numara1+numara2\n",
    "    print(sonuc)\n",
    "\n",
    "toplama(1,30)"
   ]
  },
  {
   "cell_type": "code",
   "execution_count": 141,
   "id": "452219f7-973f-4705-bec4-6797d9af3935",
   "metadata": {},
   "outputs": [
    {
     "name": "stdout",
     "output_type": "stream",
     "text": [
      "31\n"
     ]
    }
   ],
   "source": [
    "yeniDegisken = toplama(1,30)"
   ]
  },
  {
   "cell_type": "code",
   "execution_count": 142,
   "id": "7bbd5ad4-e6e8-4933-bead-73a2f0635441",
   "metadata": {},
   "outputs": [
    {
     "data": {
      "text/plain": [
       "NoneType"
      ]
     },
     "execution_count": 142,
     "metadata": {},
     "output_type": "execute_result"
    }
   ],
   "source": [
    "type(yeniDegisken)"
   ]
  },
  {
   "cell_type": "code",
   "execution_count": 143,
   "id": "ad6503b0-224b-45cb-b8bf-dbf4250bdc83",
   "metadata": {},
   "outputs": [],
   "source": [
    "def dondurmeliToplama(num1,num2):\n",
    "    return num1+num2\n",
    "\n",
    "yeniSonuc = dondurmeliToplama(1,30)"
   ]
  },
  {
   "cell_type": "code",
   "execution_count": 144,
   "id": "8b287afb-7b86-4387-88d5-852e9105a5fc",
   "metadata": {},
   "outputs": [
    {
     "data": {
      "text/plain": [
       "int"
      ]
     },
     "execution_count": 144,
     "metadata": {},
     "output_type": "execute_result"
    }
   ],
   "source": [
    "type(yeniSonuc)"
   ]
  },
  {
   "cell_type": "markdown",
   "id": "9babd8b9-dea0-4f1b-bf27-42bef798cda5",
   "metadata": {},
   "source": [
    "## args & kwargs"
   ]
  },
  {
   "cell_type": "code",
   "execution_count": 145,
   "id": "309bc8d1-10bc-4b57-b510-266508d6c4bd",
   "metadata": {},
   "outputs": [
    {
     "data": {
      "text/plain": [
       "210"
      ]
     },
     "execution_count": 145,
     "metadata": {},
     "output_type": "execute_result"
    }
   ],
   "source": [
    "def yeniToplama(*args):\n",
    "    return sum(args)\n",
    "\n",
    "yeniToplama(10,20,30,40,50,60)"
   ]
  },
  {
   "cell_type": "code",
   "execution_count": 146,
   "id": "609a387e-c6d3-4ef0-9f0f-686919dc5fb9",
   "metadata": {},
   "outputs": [
    {
     "name": "stdout",
     "output_type": "stream",
     "text": [
      "{'muz': 100, 'elma': 200, 'ananas': 300}\n"
     ]
    }
   ],
   "source": [
    "def ornekFonksiyon(**kwargs):\n",
    "    print(kwargs)\n",
    "\n",
    "ornekFonksiyon(muz=100,elma=200,ananas=300)"
   ]
  },
  {
   "cell_type": "code",
   "execution_count": 147,
   "id": "0819045a-9bcf-40e0-860b-282e0f44a67c",
   "metadata": {},
   "outputs": [
    {
     "name": "stdout",
     "output_type": "stream",
     "text": [
      "{'muz': 100, 'elma': 200}\n"
     ]
    },
    {
     "data": {
      "text/plain": [
       "NoneType"
      ]
     },
     "execution_count": 147,
     "metadata": {},
     "output_type": "execute_result"
    }
   ],
   "source": [
    "#return değeri olarak döndürmediğimiz için fonksiyon içerisinde nonetype dedi eğer döndürseydik dict olarak döndüğünü görecektik\n",
    "type(ornekFonksiyon(muz=100,elma=200))"
   ]
  },
  {
   "cell_type": "code",
   "execution_count": 148,
   "id": "0b075886-452f-49fb-87e0-e8a372ab0256",
   "metadata": {},
   "outputs": [
    {
     "name": "stdout",
     "output_type": "stream",
     "text": [
      "levent var\n"
     ]
    }
   ],
   "source": [
    "def keyWordKontrolu(**kwargs):\n",
    "    if \"levent\" in kwargs:\n",
    "        print(\"levent var\")\n",
    "    else:\n",
    "        print(\"levent yok\")\n",
    "\n",
    "keyWordKontrolu(ahmet=20,mehmet=30,levent=40)"
   ]
  },
  {
   "cell_type": "markdown",
   "id": "80fe0198-0349-41d2-98b0-1dfbcbefe807",
   "metadata": {},
   "source": [
    "## Faydalı fonksiyonlar"
   ]
  },
  {
   "cell_type": "code",
   "execution_count": 149,
   "id": "15d7fcdb-6f51-422b-a029-8eabd916dffe",
   "metadata": {},
   "outputs": [
    {
     "data": {
      "text/plain": [
       "10.0"
      ]
     },
     "execution_count": 149,
     "metadata": {},
     "output_type": "execute_result"
    }
   ],
   "source": [
    "def bolmeIslemi(numara):\n",
    "    return numara/2\n",
    "bolmeIslemi(20)"
   ]
  },
  {
   "cell_type": "code",
   "execution_count": 150,
   "id": "ba552b80-e449-49ac-b3c9-ec0ff6fcd0ff",
   "metadata": {},
   "outputs": [
    {
     "data": {
      "text/plain": [
       "[1, 2, 3, 4, 5, 6, 7, 8, 9, 10]"
      ]
     },
     "execution_count": 150,
     "metadata": {},
     "output_type": "execute_result"
    }
   ],
   "source": [
    "benimListem = list(range(1,11))\n",
    "benimListem"
   ]
  },
  {
   "cell_type": "code",
   "execution_count": 151,
   "id": "2944a0ff-3ac6-4789-9d33-f72f2b362f88",
   "metadata": {},
   "outputs": [
    {
     "data": {
      "text/plain": [
       "[0.5, 1.0, 1.5, 2.0, 2.5, 3.0, 3.5, 4.0, 4.5, 5.0]"
      ]
     },
     "execution_count": 151,
     "metadata": {},
     "output_type": "execute_result"
    }
   ],
   "source": [
    "yeniListe = []\n",
    "for eleman in benimListem:\n",
    "    yeniListe.append(bolmeIslemi(eleman))\n",
    "\n",
    "yeniListe"
   ]
  },
  {
   "cell_type": "markdown",
   "id": "9240c5ea-eef9-4d68-9a81-6a0e1d6eee73",
   "metadata": {},
   "source": [
    "## map"
   ]
  },
  {
   "cell_type": "code",
   "execution_count": 152,
   "id": "86391706-511f-469e-9572-cf4c85b175db",
   "metadata": {},
   "outputs": [
    {
     "data": {
      "text/plain": [
       "[0.5, 1.0, 1.5, 2.0, 2.5, 3.0, 3.5, 4.0, 4.5, 5.0]"
      ]
     },
     "execution_count": 152,
     "metadata": {},
     "output_type": "execute_result"
    }
   ],
   "source": [
    "list(map(bolmeIslemi,benimListem))"
   ]
  },
  {
   "cell_type": "code",
   "execution_count": 153,
   "id": "b3931dbd-9b74-4c42-9f72-2882cb685077",
   "metadata": {},
   "outputs": [
    {
     "data": {
      "text/plain": [
       "True"
      ]
     },
     "execution_count": 153,
     "metadata": {},
     "output_type": "execute_result"
    }
   ],
   "source": [
    "def kontrolFonksiyonu(string):\n",
    "    return \"a\" in string\n",
    "\n",
    "kontrolFonksiyonu(\"levent aslan\")"
   ]
  },
  {
   "cell_type": "code",
   "execution_count": 154,
   "id": "9b71e40c-8c3d-4c2f-b3a7-51b566cd71c4",
   "metadata": {},
   "outputs": [],
   "source": [
    "stringListesi = [\"levent\",\"zeynep\",\"reyhan\",\"burak\",\"emre\",\"emirman\"]"
   ]
  },
  {
   "cell_type": "code",
   "execution_count": 155,
   "id": "bfb20951-bf7a-47fb-a6d0-f2fccd00ee9e",
   "metadata": {},
   "outputs": [
    {
     "data": {
      "text/plain": [
       "[False, False, True, True, False, True]"
      ]
     },
     "execution_count": 155,
     "metadata": {},
     "output_type": "execute_result"
    }
   ],
   "source": [
    "list(map(kontrolFonksiyonu,stringListesi))"
   ]
  },
  {
   "cell_type": "markdown",
   "id": "62d90dfb-2247-4dcc-9c23-5fbb1297a8e4",
   "metadata": {},
   "source": [
    "## Filter"
   ]
  },
  {
   "cell_type": "code",
   "execution_count": 156,
   "id": "1f1b5e97-640b-4c22-bf80-4054e7e13cda",
   "metadata": {},
   "outputs": [
    {
     "data": {
      "text/plain": [
       "['reyhan', 'burak', 'emirman']"
      ]
     },
     "execution_count": 156,
     "metadata": {},
     "output_type": "execute_result"
    }
   ],
   "source": [
    "list(filter(kontrolFonksiyonu,stringListesi))"
   ]
  },
  {
   "cell_type": "markdown",
   "id": "2b60b5f1-b828-467f-909c-9b658b730f36",
   "metadata": {},
   "source": [
    "## lambda"
   ]
  },
  {
   "cell_type": "code",
   "execution_count": 157,
   "id": "6ec867d2-3a88-48e4-bf34-ee0c02486d1c",
   "metadata": {},
   "outputs": [
    {
     "data": {
      "text/plain": [
       "30"
      ]
     },
     "execution_count": 157,
     "metadata": {},
     "output_type": "execute_result"
    }
   ],
   "source": [
    "carpma = lambda numara : numara * 3\n",
    "carpma(10)"
   ]
  },
  {
   "cell_type": "markdown",
   "id": "3c083014-3401-45e2-a5b7-e1570b4fd1e1",
   "metadata": {},
   "source": [
    "## scope"
   ]
  },
  {
   "cell_type": "code",
   "execution_count": 158,
   "id": "fd8fa453-6568-4838-8217-8eb8cabe8d36",
   "metadata": {},
   "outputs": [],
   "source": [
    "numara = 10\n",
    "def carpma(rakam):\n",
    "    numara = 10\n",
    "    return numara*rakam"
   ]
  },
  {
   "cell_type": "code",
   "execution_count": 159,
   "id": "8803170e-f370-4ed1-8beb-59ccb018f3a9",
   "metadata": {},
   "outputs": [
    {
     "data": {
      "text/plain": [
       "50"
      ]
     },
     "execution_count": 159,
     "metadata": {},
     "output_type": "execute_result"
    }
   ],
   "source": [
    "carpma(5)"
   ]
  },
  {
   "cell_type": "code",
   "execution_count": 160,
   "id": "b71407d5-99cd-47a2-86e3-3ffc51ff8609",
   "metadata": {},
   "outputs": [
    {
     "name": "stdout",
     "output_type": "stream",
     "text": [
      "10\n"
     ]
    }
   ],
   "source": [
    "print(numara)"
   ]
  },
  {
   "cell_type": "code",
   "execution_count": 161,
   "id": "f208cf9a-a00c-4a9d-bf6f-fd98c0d527ba",
   "metadata": {},
   "outputs": [],
   "source": [
    "x=10\n",
    "x=20"
   ]
  },
  {
   "cell_type": "code",
   "execution_count": 162,
   "id": "d3e3914c-8092-44fe-8684-dc5b21936fd9",
   "metadata": {},
   "outputs": [
    {
     "data": {
      "text/plain": [
       "20"
      ]
     },
     "execution_count": 162,
     "metadata": {},
     "output_type": "execute_result"
    }
   ],
   "source": [
    "x"
   ]
  },
  {
   "cell_type": "markdown",
   "id": "7f525096-9ce6-41e1-b898-a85d7b8f063e",
   "metadata": {},
   "source": [
    "## Local , enclosing , global , built-in"
   ]
  },
  {
   "cell_type": "code",
   "execution_count": 163,
   "id": "948ae8de-ac98-47a2-9d0d-56b0a5c8bac3",
   "metadata": {},
   "outputs": [],
   "source": [
    "#Global\n",
    "benimAdim = \"Levent\"\n",
    "\n",
    "def benimFonksiyonum():\n",
    "    #enclosing\n",
    "    benimAdim = \"Mahmut\"\n",
    "\n",
    "    def icFonksiyon():\n",
    "        #local\n",
    "        benimAdim = \"Aslan\"\n",
    "        print(benimAdim)\n",
    "    icFonksiyon()"
   ]
  },
  {
   "cell_type": "code",
   "execution_count": 164,
   "id": "d0f855f9-733c-4d13-89ef-16633031a4ec",
   "metadata": {},
   "outputs": [
    {
     "name": "stdout",
     "output_type": "stream",
     "text": [
      "Aslan\n"
     ]
    }
   ],
   "source": [
    "# en alttan en üste doğru yazma işlemi yapıyor buil- in'e doğru gidiyor\n",
    "benimFonksiyonum()"
   ]
  },
  {
   "cell_type": "code",
   "execution_count": 165,
   "id": "640cf5db-da08-4768-bd76-e7b9568fa98d",
   "metadata": {},
   "outputs": [
    {
     "name": "stdout",
     "output_type": "stream",
     "text": [
      "Levent\n"
     ]
    }
   ],
   "source": [
    "print(benimAdim)"
   ]
  },
  {
   "cell_type": "code",
   "execution_count": 166,
   "id": "62796ede-4d51-4be6-bcce-83968161e21e",
   "metadata": {},
   "outputs": [],
   "source": [
    "y=10\n",
    "\n",
    "def yeniFonksiyon(y):\n",
    "    print(y)\n",
    "    y = 5\n",
    "    print(y)\n",
    "    return y"
   ]
  },
  {
   "cell_type": "code",
   "execution_count": 167,
   "id": "4bac733d-6d3f-4beb-871f-d6a4c90ae3e6",
   "metadata": {},
   "outputs": [
    {
     "name": "stdout",
     "output_type": "stream",
     "text": [
      "3\n",
      "5\n"
     ]
    },
    {
     "data": {
      "text/plain": [
       "5"
      ]
     },
     "execution_count": 167,
     "metadata": {},
     "output_type": "execute_result"
    }
   ],
   "source": [
    "yeniFonksiyon(3)"
   ]
  },
  {
   "cell_type": "code",
   "execution_count": 168,
   "id": "48b5b1bd-766d-4550-845a-143314446c58",
   "metadata": {},
   "outputs": [
    {
     "data": {
      "text/plain": [
       "10"
      ]
     },
     "execution_count": 168,
     "metadata": {},
     "output_type": "execute_result"
    }
   ],
   "source": [
    "y"
   ]
  },
  {
   "cell_type": "code",
   "execution_count": 169,
   "id": "404da342-f3e8-4e8c-bff8-7bdad179a9d9",
   "metadata": {},
   "outputs": [],
   "source": [
    "y = 10\n",
    "def ornekFonksiyon2():\n",
    "    global y\n",
    "    y=5\n",
    "    print(y)"
   ]
  },
  {
   "cell_type": "code",
   "execution_count": 170,
   "id": "0c8a39c0-93cc-4973-a905-de4873408721",
   "metadata": {},
   "outputs": [
    {
     "name": "stdout",
     "output_type": "stream",
     "text": [
      "5\n"
     ]
    }
   ],
   "source": [
    "ornekFonksiyon2()"
   ]
  },
  {
   "cell_type": "code",
   "execution_count": 171,
   "id": "f1cf2373-7e8d-4801-b4a0-d77c9a77abea",
   "metadata": {},
   "outputs": [
    {
     "data": {
      "text/plain": [
       "5"
      ]
     },
     "execution_count": 171,
     "metadata": {},
     "output_type": "execute_result"
    }
   ],
   "source": [
    "#fonksiyon içerisinde global olarak kullanıldığı için değişken değişikliğe uğradı\n",
    "y"
   ]
  },
  {
   "cell_type": "markdown",
   "id": "78a7be02-9d35-42c1-991f-b2c63757f5df",
   "metadata": {},
   "source": [
    "## Ornek bir hesap makinesi hata ayıklama işlemleri ile "
   ]
  },
  {
   "cell_type": "code",
   "execution_count": 172,
   "id": "581b6a3f-961e-4290-92fc-736e04926370",
   "metadata": {},
   "outputs": [
    {
     "name": "stdin",
     "output_type": "stream",
     "text": [
      "İlk sayıyı giriniz:  levent\n"
     ]
    },
    {
     "name": "stdout",
     "output_type": "stream",
     "text": [
      "Lütfen sayilari düzgün giriniz\n"
     ]
    },
    {
     "name": "stdin",
     "output_type": "stream",
     "text": [
      "İlk sayıyı giriniz:  19\n",
      "İkinci sayıyı giriniz:  21\n",
      "İşleminizi seçiniz(+-*/):  +\n"
     ]
    },
    {
     "name": "stdout",
     "output_type": "stream",
     "text": [
      "19 + 21 = 40\n"
     ]
    },
    {
     "name": "stdin",
     "output_type": "stream",
     "text": [
      "Devam etmek istiyor musunuz(E/H):  h\n"
     ]
    }
   ],
   "source": [
    "def hesapla(a, b, islem):\n",
    "    if islem not in \"+-*/\":\n",
    "        return \"Lütfen şu işlemlerden birini seçiniz\"\n",
    "    if islem == \"+\":\n",
    "        return str(a) + \" + \" + str(b) + \" = \" + str(a + b)\n",
    "    if islem == \"-\":\n",
    "        return str(a) + \" - \" + str(b) + \" = \" + str(a - b)\n",
    "    if islem == \"*\":\n",
    "        return str(a) + \" * \" + str(b) + \" = \" + str(a * b)\n",
    "    if islem == \"/\":\n",
    "        if b == 0:\n",
    "            return \"Bölen 0 olamaz!\"\n",
    "        return str(a) + \" / \" + str(b) + \" = \" + str(a / b)\n",
    "\n",
    "devamMi = True \n",
    "\n",
    "while devamMi:\n",
    "    try:\n",
    "        a = int(input(\"İlk sayıyı giriniz: \"))\n",
    "        b = int(input(\"İkinci sayıyı giriniz: \"))\n",
    "        islem = input(\"İşleminizi seçiniz(+-*/): \")\n",
    "        print(hesapla(a, b, islem))\n",
    "        devamMi = input(\"Devam etmek istiyor musunuz(E/H): \").lower() == 'e'  \n",
    "    except ValueError: \n",
    "        print(\"Lütfen sayilari düzgün giriniz\")\n"
   ]
  },
  {
   "cell_type": "markdown",
   "id": "444a57ac-9b47-4d70-b4ba-edaa699f5877",
   "metadata": {},
   "source": [
    "## OOP"
   ]
  },
  {
   "cell_type": "markdown",
   "id": "1acf0ba1-d9c6-4b9d-8a37-3ff761e1c0ad",
   "metadata": {},
   "source": [
    "## instance & attribute"
   ]
  },
  {
   "cell_type": "code",
   "execution_count": 173,
   "id": "dbc91a17-1f5d-4765-b51c-0e0b3a14473f",
   "metadata": {},
   "outputs": [],
   "source": [
    "# sınıfların ilk harfi büyük harfle yazılır genelde\n",
    "class SuperKahraman():\n",
    "    #javadaki kurucu fonksiyon mantığında self ile kendini çağırma işlemi\n",
    "    def __init__(self,isim,yas,meslek):\n",
    "        print(\"init çağırıldı\")\n",
    "        # diğer dillerdeki this.isim=isim mantığı gibi\n",
    "        self.isim = isim\n",
    "        self.yas = yas\n",
    "        self.meslek = meslek   \n",
    "    def ornekMethod(self):\n",
    "        #self ile diğer fonksiyonlar içerisindeki değişkenlere ulaşabiliyoruz\n",
    "        print(f\"ben süper kahramanım ve meslegim: {self.meslek}\")"
   ]
  },
  {
   "cell_type": "code",
   "execution_count": 174,
   "id": "221b2af0-1aba-468b-8b85-3e9118dbb3eb",
   "metadata": {},
   "outputs": [
    {
     "name": "stdout",
     "output_type": "stream",
     "text": [
      "init çağırıldı\n"
     ]
    }
   ],
   "source": [
    "superman = SuperKahraman(\"Superman\",30,\"Gazeteci\")"
   ]
  },
  {
   "cell_type": "code",
   "execution_count": 175,
   "id": "02e1d4e9-e997-49a5-859f-5516bbc085c1",
   "metadata": {},
   "outputs": [
    {
     "data": {
      "text/plain": [
       "'Superman'"
      ]
     },
     "execution_count": 175,
     "metadata": {},
     "output_type": "execute_result"
    }
   ],
   "source": [
    "superman.isim"
   ]
  },
  {
   "cell_type": "code",
   "execution_count": 176,
   "id": "ec5108e0-02a5-4487-b0f1-174e4b73eb05",
   "metadata": {},
   "outputs": [],
   "source": [
    "superman.isim = \"Clark kent\""
   ]
  },
  {
   "cell_type": "code",
   "execution_count": 177,
   "id": "e40242f8-8936-4edc-ad1b-15579609da65",
   "metadata": {},
   "outputs": [
    {
     "data": {
      "text/plain": [
       "'Clark kent'"
      ]
     },
     "execution_count": 177,
     "metadata": {},
     "output_type": "execute_result"
    }
   ],
   "source": [
    "superman.isim"
   ]
  },
  {
   "cell_type": "code",
   "execution_count": 178,
   "id": "47033573-7a33-4f4c-ac7a-e57ebb617516",
   "metadata": {},
   "outputs": [
    {
     "name": "stdout",
     "output_type": "stream",
     "text": [
      "ben süper kahramanım ve meslegim: Gazeteci\n"
     ]
    }
   ],
   "source": [
    "superman.ornekMethod()"
   ]
  },
  {
   "cell_type": "code",
   "execution_count": 179,
   "id": "6e4659f9-6de6-4d7c-a221-7a42db259013",
   "metadata": {},
   "outputs": [],
   "source": [
    "class Kopek():\n",
    "    #default değer olarak 5 ataması yapıldı herhangi bir değer verilmediği durumlar için\n",
    "    def __init__(self,yas=5):\n",
    "        self.yas = yas\n",
    "    def kopekInsanYasi(self):\n",
    "        print(f\"Kopegin insan yasi: {self.yas*7}\")"
   ]
  },
  {
   "cell_type": "code",
   "execution_count": 180,
   "id": "e72bc14b-87dd-4bd4-8181-554afe0de91e",
   "metadata": {},
   "outputs": [
    {
     "data": {
      "text/plain": [
       "3"
      ]
     },
     "execution_count": 180,
     "metadata": {},
     "output_type": "execute_result"
    }
   ],
   "source": [
    "benimKopek = Kopek(3)\n",
    "benimKopek.yas"
   ]
  },
  {
   "cell_type": "code",
   "execution_count": 181,
   "id": "7b4d603d-eb9a-4231-86f1-d60d389a1f41",
   "metadata": {},
   "outputs": [
    {
     "name": "stdout",
     "output_type": "stream",
     "text": [
      "Kopegin insan yasi: 21\n"
     ]
    }
   ],
   "source": [
    "benimKopek.kopekInsanYasi()"
   ]
  },
  {
   "cell_type": "markdown",
   "id": "637d6d8a-828f-4f22-a5ac-9e9de848e895",
   "metadata": {},
   "source": [
    "## inheritance"
   ]
  },
  {
   "cell_type": "code",
   "execution_count": 182,
   "id": "ed9ad61d-25f3-4ab7-abad-2e6c2faa2d79",
   "metadata": {},
   "outputs": [],
   "source": [
    "class Hayvan():\n",
    "    def __init__(self):\n",
    "        print(\"Hayvan sınıfı init edildi\")\n",
    "    def method1(self):\n",
    "        print(\"Hayvan sınıfı method1 çalıştı\")\n",
    "    def method2(self):\n",
    "        print(\"Hayvan sınıfı method2 çalıştı\")"
   ]
  },
  {
   "cell_type": "code",
   "execution_count": 183,
   "id": "88a54c03-617b-4fae-9ca0-af131b56f66e",
   "metadata": {},
   "outputs": [
    {
     "name": "stdout",
     "output_type": "stream",
     "text": [
      "Hayvan sınıfı init edildi\n",
      "Hayvan sınıfı method1 çalıştı\n",
      "Hayvan sınıfı method2 çalıştı\n"
     ]
    }
   ],
   "source": [
    "benimHayvanim = Hayvan()\n",
    "benimHayvanim.method1()\n",
    "benimHayvanim.method2()"
   ]
  },
  {
   "cell_type": "code",
   "execution_count": 184,
   "id": "aee3c3c3-b7b8-4a25-b0ed-8a5985528293",
   "metadata": {},
   "outputs": [],
   "source": [
    "class Kedi(Hayvan):\n",
    "    def __init__(self):\n",
    "        Hayvan.__init__(self)\n",
    "        print(\"kedi sınıfı init çağırıldı\")\n",
    "    def miyavla(self):\n",
    "        print(\"Miyav\")\n",
    "\n",
    "    #override ile hayvan sınıfındaki method1 değiştirildi\n",
    "    def method1(self):\n",
    "        print(\"Kedi sınıfı method1 çalıştı\")"
   ]
  },
  {
   "cell_type": "code",
   "execution_count": 185,
   "id": "9753f091-e2fb-42cb-af00-866b88f9d17b",
   "metadata": {},
   "outputs": [
    {
     "name": "stdout",
     "output_type": "stream",
     "text": [
      "Hayvan sınıfı init edildi\n",
      "kedi sınıfı init çağırıldı\n",
      "Kedi sınıfı method1 çalıştı\n",
      "Miyav\n"
     ]
    }
   ],
   "source": [
    "# kalıtımla hayvan sınıfındaki methodlara da erişim sağlandı\n",
    "benimKedi = Kedi()\n",
    "benimKedi.method1()\n",
    "benimKedi.miyavla()"
   ]
  },
  {
   "cell_type": "markdown",
   "id": "9322a8fd-42d3-4b58-802a-6d35f59b78bd",
   "metadata": {},
   "source": [
    "## Polymorphism"
   ]
  },
  {
   "cell_type": "code",
   "execution_count": 186,
   "id": "25cb2e4a-277a-4ff7-b677-82962a53787f",
   "metadata": {},
   "outputs": [],
   "source": [
    "class Elma():\n",
    "    def __init__(self,isim):\n",
    "        self.isim = isim\n",
    "    def bilgiVer(self):\n",
    "        return self.isim + \" 100 kaloridir \"\n",
    "\n",
    "class Muz():\n",
    "    def __init__(self,isim):\n",
    "        self.isim = isim\n",
    "    def bilgiVer(self):\n",
    "        return self.isim+ \" 150 kaloridir \""
   ]
  },
  {
   "cell_type": "code",
   "execution_count": 187,
   "id": "ab2799d9-ae74-46d1-a047-06ca0ba1deeb",
   "metadata": {},
   "outputs": [
    {
     "name": "stdout",
     "output_type": "stream",
     "text": [
      "elma 100 kaloridir \n",
      "muz 150 kaloridir \n"
     ]
    }
   ],
   "source": [
    "elma = Elma(\"elma\")\n",
    "muz = Muz(\"muz\")\n",
    "print(elma.bilgiVer())\n",
    "print(muz.bilgiVer())"
   ]
  },
  {
   "cell_type": "code",
   "execution_count": 188,
   "id": "db5ede36-dc85-437e-93be-f2621261223e",
   "metadata": {},
   "outputs": [],
   "source": [
    "meyveListesi = [elma,muz]"
   ]
  },
  {
   "cell_type": "code",
   "execution_count": 189,
   "id": "2473e2ca-3e53-490f-a485-be6ecef98ffc",
   "metadata": {},
   "outputs": [
    {
     "name": "stdout",
     "output_type": "stream",
     "text": [
      "elma 100 kaloridir \n",
      "muz 150 kaloridir \n"
     ]
    }
   ],
   "source": [
    "for meyve in meyveListesi:\n",
    "    print(meyve.bilgiVer())"
   ]
  },
  {
   "cell_type": "code",
   "execution_count": 190,
   "id": "8d36207a-54a4-47a5-8c3e-7ac5ee602e6e",
   "metadata": {},
   "outputs": [
    {
     "name": "stdout",
     "output_type": "stream",
     "text": [
      "muz 150 kaloridir \n",
      "elma 100 kaloridir \n"
     ]
    }
   ],
   "source": [
    "def bilgiAl(meyve):\n",
    "    print(meyve.bilgiVer())\n",
    "\n",
    "bilgiAl(muz)\n",
    "bilgiAl(elma)"
   ]
  },
  {
   "cell_type": "markdown",
   "id": "9a3ada37-6136-4ac8-8312-aac037a4f542",
   "metadata": {},
   "source": [
    "## Özel methodlar"
   ]
  },
  {
   "cell_type": "code",
   "execution_count": 191,
   "id": "b7f7cc4b-28bc-4ec6-8c60-bef4c0a3c351",
   "metadata": {},
   "outputs": [],
   "source": [
    " class Meyve():\n",
    "     def __init__(self,isim,kalori):\n",
    "         self.isim = isim\n",
    "         self.kalori = kalori\n",
    "     def __str__(self):\n",
    "         return f\"{self.isim} şu kadar kaloriye sahiptir: {self.kalori}\"\n",
    "\n",
    "     def __len__(self):\n",
    "         return self.kalori"
   ]
  },
  {
   "cell_type": "code",
   "execution_count": 192,
   "id": "a340eb41-74fc-48a5-bfcd-243f911ff510",
   "metadata": {},
   "outputs": [
    {
     "data": {
      "text/plain": [
       "150"
      ]
     },
     "execution_count": 192,
     "metadata": {},
     "output_type": "execute_result"
    }
   ],
   "source": [
    "muz = Meyve(\"Muz\",150)\n",
    "muz.kalori"
   ]
  },
  {
   "cell_type": "code",
   "execution_count": 193,
   "id": "4aa35b69-aa92-4268-bcc6-86e0ba01023d",
   "metadata": {},
   "outputs": [
    {
     "name": "stdout",
     "output_type": "stream",
     "text": [
      "Muz şu kadar kaloriye sahiptir: 150\n"
     ]
    }
   ],
   "source": [
    "# __str__ fonksiyonu olmasaydı bellekte yer ayırıp bırakacaktı\n",
    "print(muz)"
   ]
  },
  {
   "cell_type": "code",
   "execution_count": 194,
   "id": "ae61074d-b742-42bd-9891-cc76d7abb3ac",
   "metadata": {},
   "outputs": [
    {
     "data": {
      "text/plain": [
       "150"
      ]
     },
     "execution_count": 194,
     "metadata": {},
     "output_type": "execute_result"
    }
   ],
   "source": [
    "#normalde uzunluk bilgisi veremeyecekti(hata verecekti) listelerdeki gibi fakat özel fonksiyonla verdi\n",
    "len(muz)"
   ]
  },
  {
   "cell_type": "markdown",
   "id": "89d8d4fd-60e4-41e7-8b09-e06bc2e853cd",
   "metadata": {},
   "source": [
    "## Hataları ele almak(error handling)"
   ]
  },
  {
   "cell_type": "markdown",
   "id": "2d75d0ae-ef65-46e4-a5f2-a8072c5744f4",
   "metadata": {},
   "source": [
    "## try & except & else & finally"
   ]
  },
  {
   "cell_type": "code",
   "execution_count": 195,
   "id": "f2134dd2-fe52-4650-a115-0218a5c1ec9e",
   "metadata": {},
   "outputs": [
    {
     "name": "stdin",
     "output_type": "stream",
     "text": [
      "Numaranızı giriniz:  22\n"
     ]
    },
    {
     "name": "stdout",
     "output_type": "stream",
     "text": [
      "Teşekkürler\n",
      "Finaly çağırıldı\n"
     ]
    },
    {
     "name": "stdin",
     "output_type": "stream",
     "text": [
      "Devam etmek istiyor musunuz(E/H):  e\n",
      "Numaranızı giriniz:  sdfsdf\n"
     ]
    },
    {
     "name": "stdout",
     "output_type": "stream",
     "text": [
      "Lütfen gerçekten numara giriniz\n",
      "Finaly çağırıldı\n"
     ]
    },
    {
     "name": "stdin",
     "output_type": "stream",
     "text": [
      "Devam etmek istiyor musunuz(E/H):  e\n",
      "Numaranızı giriniz:  levent\n"
     ]
    },
    {
     "name": "stdout",
     "output_type": "stream",
     "text": [
      "Lütfen gerçekten numara giriniz\n",
      "Finaly çağırıldı\n"
     ]
    },
    {
     "name": "stdin",
     "output_type": "stream",
     "text": [
      "Devam etmek istiyor musunuz(E/H):  22\n"
     ]
    }
   ],
   "source": [
    "devamMi=True\n",
    "while devamMi:\n",
    "    try:\n",
    "        benimInt = int(input(\"Numaranızı giriniz: \"))\n",
    "    except:\n",
    "        print(\"Lütfen gerçekten numara giriniz\")\n",
    "    else:\n",
    "        print(\"Teşekkürler\")\n",
    "    finally:\n",
    "        print(\"Finaly çağırıldı\")\n",
    "    devamMi = input(\"Devam etmek istiyor musunuz(E/H): \").lower() == 'e'"
   ]
  },
  {
   "cell_type": "markdown",
   "id": "58f2c12a-8e4c-4663-9c23-e4bcf33d66cc",
   "metadata": {},
   "source": [
    "## Kütüphaneler"
   ]
  },
  {
   "cell_type": "code",
   "execution_count": 196,
   "id": "2d21ccd1-2dd3-45d0-90ad-ae93ed66d33f",
   "metadata": {},
   "outputs": [],
   "source": [
    "import numpy as np\n",
    "import matplotlib.pyplot as matplot"
   ]
  },
  {
   "cell_type": "code",
   "execution_count": 197,
   "id": "a2ffff5a-b03d-4e8c-83a9-7925e7acc153",
   "metadata": {},
   "outputs": [
    {
     "data": {
      "text/plain": [
       "3989.805650173097"
      ]
     },
     "execution_count": 197,
     "metadata": {},
     "output_type": "execute_result"
    }
   ],
   "source": [
    "# 4000 civarında 500 standart sapmalı 1000 adet random veri\n",
    "maasListesi = np.random.normal(4000,500,1000)\n",
    "#ortalama alma işlemi\n",
    "np.mean(maasListesi)"
   ]
  },
  {
   "cell_type": "code",
   "execution_count": 198,
   "id": "6652a681-d196-4649-b7bf-b70bbc8318b0",
   "metadata": {},
   "outputs": [
    {
     "data": {
      "image/png": "[encoded data removed]",
      "text/plain": [
       "<Figure size 640x480 with 1 Axes>"
      ]
     },
     "metadata": {},
     "output_type": "display_data"
    }
   ],
   "source": [
    "matplot.hist(maasListesi,50)\n",
    "matplot.show()"
   ]
  },
  {
   "cell_type": "markdown",
   "id": "7bfc6f13-71eb-4cdd-a47b-6e9e2d37dd31",
   "metadata": {},
   "source": [
    "## Levent ASLAN\n",
    "BTK akademi Veri bilimi için python ve tensorflow eğitimindeki temel seviye python konu anlatımındaki kod örnekleri"
   ]
  },
  {
   "cell_type": "code",
   "execution_count": null,
   "id": "31cdf9eb-d534-4874-8525-ab655d4d6c62",
   "metadata": {},
   "outputs": [],
   "source": []
  }
 ],
 "metadata": {
  "kernelspec": {
   "display_name": "Python 3 (ipykernel)",
   "language": "python",
   "name": "python3"
  },
  "language_info": {
   "codemirror_mode": {
    "name": "ipython",
    "version": 3
   },
   "file_extension": ".py",
   "mimetype": "text/x-python",
   "name": "python",
   "nbconvert_exporter": "python",
   "pygments_lexer": "ipython3",
   "version": "3.9.19"
  }
 },
 "nbformat": 4,
 "nbformat_minor": 5
}
